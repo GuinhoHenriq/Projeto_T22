{
  "nbformat": 4,
  "nbformat_minor": 0,
  "metadata": {
    "colab": {
      "name": "Opendata AIG Brazil.ipynb",
      "provenance": [],
      "collapsed_sections": [],
      "include_colab_link": true
    },
    "kernelspec": {
      "name": "python3",
      "display_name": "Python 3"
    },
    "language_info": {
      "name": "python"
    }
  },
  "cells": [
    {
      "cell_type": "markdown",
      "metadata": {
        "id": "view-in-github",
        "colab_type": "text"
      },
      "source": [
        "<a href=\"https://colab.research.google.com/github/GuinhoHenriq/Projeto_T22/blob/main/Opendata_AIG_Brazil.ipynb\" target=\"_parent\"><img src=\"https://colab.research.google.com/assets/colab-badge.svg\" alt=\"Open In Colab\"/></a>"
      ]
    },
    {
      "cell_type": "markdown",
      "metadata": {
        "id": "ej9sRefUm6Mu"
      },
      "source": [
        "# Opendata AIG Brazil\n",
        "\n",
        "---\n",
        "\n",
        "\n",
        "A base de dados de ocorrências aeronáuticas é gerenciada pelo Centro de Investigação e Prevenção de Acidentes Aeronáuticos (CENIPA).\n",
        "\n",
        "Constam nesta base de dados as ocorrências aeronáuticas notificadas ao CENIPA nos últimos 10 anos e que ocorreram em solo brasileiro."
      ]
    },
    {
      "cell_type": "code",
      "metadata": {
        "id": "r7BpjezonLxz"
      },
      "source": [
        "import pandas as pd\n",
        "import matplotlib\n",
        "import seaborn as sns\n",
        "import numpy as np\n",
        "import matplotlib.pyplot as plt\n",
        "import plotly\n",
        "import plotly.offline as py\n",
        "import plotly.graph_objs as go # criará de fato os gráficos\n",
        "from plotly.offline import plot, iplot\n"
      ],
      "execution_count": null,
      "outputs": []
    },
    {
      "cell_type": "code",
      "metadata": {
        "id": "BsszMy-nnQY0"
      },
      "source": [
        "#Importação do Dataset\n",
        "dadosCenipa = pd.read_csv(\"ocorrencias_cenipa.csv\",sep =';',encoding='ISO-8859-1', index_col=0)"
      ],
      "execution_count": null,
      "outputs": []
    },
    {
      "cell_type": "code",
      "metadata": {
        "colab": {
          "base_uri": "https://localhost:8080/",
          "height": 431
        },
        "id": "ZDdyJkyXnS5q",
        "outputId": "9ab1b017-6eaf-4768-f199-dd649315a25b"
      },
      "source": [
        "dadosCenipa.head()"
      ],
      "execution_count": null,
      "outputs": [
        {
          "output_type": "execute_result",
          "data": {
            "text/html": [
              "<div>\n",
              "<style scoped>\n",
              "    .dataframe tbody tr th:only-of-type {\n",
              "        vertical-align: middle;\n",
              "    }\n",
              "\n",
              "    .dataframe tbody tr th {\n",
              "        vertical-align: top;\n",
              "    }\n",
              "\n",
              "    .dataframe thead th {\n",
              "        text-align: right;\n",
              "    }\n",
              "</style>\n",
              "<table border=\"1\" class=\"dataframe\">\n",
              "  <thead>\n",
              "    <tr style=\"text-align: right;\">\n",
              "      <th></th>\n",
              "      <th>tipo</th>\n",
              "      <th>descricao</th>\n",
              "      <th>cidade</th>\n",
              "      <th>estado</th>\n",
              "      <th>data</th>\n",
              "      <th>ano</th>\n",
              "      <th>hora</th>\n",
              "      <th>aeronave_liberada</th>\n",
              "      <th>status_investigacao</th>\n",
              "      <th>aeronaves_envolvidas</th>\n",
              "      <th>ocorrencia_saida_pista</th>\n",
              "      <th>aeronave_tipo</th>\n",
              "      <th>aeronave_fabricante</th>\n",
              "      <th>motor_tipo</th>\n",
              "      <th>aeronave_motor_quantidade</th>\n",
              "      <th>aeronave_assentos</th>\n",
              "      <th>aeronave_ano_fabricacao</th>\n",
              "      <th>aeronave_pais_fabricante</th>\n",
              "      <th>aeronave_fase_operacao</th>\n",
              "      <th>aeronave_nivel_dano</th>\n",
              "    </tr>\n",
              "    <tr>\n",
              "      <th>codigo</th>\n",
              "      <th></th>\n",
              "      <th></th>\n",
              "      <th></th>\n",
              "      <th></th>\n",
              "      <th></th>\n",
              "      <th></th>\n",
              "      <th></th>\n",
              "      <th></th>\n",
              "      <th></th>\n",
              "      <th></th>\n",
              "      <th></th>\n",
              "      <th></th>\n",
              "      <th></th>\n",
              "      <th></th>\n",
              "      <th></th>\n",
              "      <th></th>\n",
              "      <th></th>\n",
              "      <th></th>\n",
              "      <th></th>\n",
              "      <th></th>\n",
              "    </tr>\n",
              "  </thead>\n",
              "  <tbody>\n",
              "    <tr>\n",
              "      <th>40107</th>\n",
              "      <td>ACIDENTE</td>\n",
              "      <td>COLISÃO COM OBSTÁCULO DURANTE A DECOLAGEM E POUSO</td>\n",
              "      <td>GURUPÁ</td>\n",
              "      <td>PA</td>\n",
              "      <td>12/01/2010</td>\n",
              "      <td>2010</td>\n",
              "      <td>14:30:00</td>\n",
              "      <td>SIM</td>\n",
              "      <td>FINALIZADA</td>\n",
              "      <td>1</td>\n",
              "      <td>NÃO</td>\n",
              "      <td>AVIÃO</td>\n",
              "      <td>NEIVA INDUSTRIA AERONAUTICA</td>\n",
              "      <td>PISTÃO</td>\n",
              "      <td>MONOMOTOR</td>\n",
              "      <td>7</td>\n",
              "      <td>1977</td>\n",
              "      <td>BRASIL</td>\n",
              "      <td>POUSO</td>\n",
              "      <td>LEVE</td>\n",
              "    </tr>\n",
              "    <tr>\n",
              "      <th>40147</th>\n",
              "      <td>ACIDENTE</td>\n",
              "      <td>FALHA OU MAU FUNCIONAMENTO DE SISTEMA / COMPON...</td>\n",
              "      <td>UNIÃO DA VITÓRIA</td>\n",
              "      <td>PR</td>\n",
              "      <td>08/04/2010</td>\n",
              "      <td>2010</td>\n",
              "      <td>14:20:00</td>\n",
              "      <td>SIM</td>\n",
              "      <td>FINALIZADA</td>\n",
              "      <td>1</td>\n",
              "      <td>SIM</td>\n",
              "      <td>AVIÃO</td>\n",
              "      <td>PIPER AIRCRAFT</td>\n",
              "      <td>PISTÃO</td>\n",
              "      <td>BIMOTOR</td>\n",
              "      <td>6</td>\n",
              "      <td>1997</td>\n",
              "      <td>BRASIL</td>\n",
              "      <td>POUSO</td>\n",
              "      <td>SUBSTANCIAL</td>\n",
              "    </tr>\n",
              "    <tr>\n",
              "      <th>40148</th>\n",
              "      <td>ACIDENTE</td>\n",
              "      <td>PANE SECA</td>\n",
              "      <td>CAMPO GRANDE</td>\n",
              "      <td>MS</td>\n",
              "      <td>19/03/2010</td>\n",
              "      <td>2010</td>\n",
              "      <td>19:30:00</td>\n",
              "      <td>SIM</td>\n",
              "      <td>FINALIZADA</td>\n",
              "      <td>1</td>\n",
              "      <td>NÃO</td>\n",
              "      <td>AVIÃO</td>\n",
              "      <td>CESSNA AIRCRAFT</td>\n",
              "      <td>PISTÃO</td>\n",
              "      <td>MONOMOTOR</td>\n",
              "      <td>6</td>\n",
              "      <td>1962</td>\n",
              "      <td>BRASIL</td>\n",
              "      <td>APROXIMAÇÃO FINAL</td>\n",
              "      <td>SUBSTANCIAL</td>\n",
              "    </tr>\n",
              "    <tr>\n",
              "      <th>40149</th>\n",
              "      <td>ACIDENTE</td>\n",
              "      <td>FALHA DO MOTOR EM VOO</td>\n",
              "      <td>LUZIÂNIA</td>\n",
              "      <td>GO</td>\n",
              "      <td>21/03/2010</td>\n",
              "      <td>2010</td>\n",
              "      <td>20:45:00</td>\n",
              "      <td>SIM</td>\n",
              "      <td>FINALIZADA</td>\n",
              "      <td>1</td>\n",
              "      <td>NÃO</td>\n",
              "      <td>AVIÃO</td>\n",
              "      <td>XAVANTE</td>\n",
              "      <td>PISTÃO</td>\n",
              "      <td>MONOMOTOR</td>\n",
              "      <td>2</td>\n",
              "      <td>1974</td>\n",
              "      <td>BRASIL</td>\n",
              "      <td>DECOLAGEM</td>\n",
              "      <td>DESTRUÍDA</td>\n",
              "    </tr>\n",
              "    <tr>\n",
              "      <th>40150</th>\n",
              "      <td>INCIDENTE GRAVE</td>\n",
              "      <td>COM TREM DE POUSO</td>\n",
              "      <td>SANTA MARIA</td>\n",
              "      <td>RS</td>\n",
              "      <td>10/03/2010</td>\n",
              "      <td>2010</td>\n",
              "      <td>17:20:00</td>\n",
              "      <td>SIM</td>\n",
              "      <td>FINALIZADA</td>\n",
              "      <td>1</td>\n",
              "      <td>NÃO</td>\n",
              "      <td>AVIÃO</td>\n",
              "      <td>BEECH AIRCRAFT</td>\n",
              "      <td>PISTÃO</td>\n",
              "      <td>MONOMOTOR</td>\n",
              "      <td>6</td>\n",
              "      <td>1974</td>\n",
              "      <td>BRASIL</td>\n",
              "      <td>POUSO</td>\n",
              "      <td>LEVE</td>\n",
              "    </tr>\n",
              "  </tbody>\n",
              "</table>\n",
              "</div>"
            ],
            "text/plain": [
              "                   tipo  ... aeronave_nivel_dano\n",
              "codigo                   ...                    \n",
              "40107          ACIDENTE  ...                LEVE\n",
              "40147          ACIDENTE  ...         SUBSTANCIAL\n",
              "40148          ACIDENTE  ...         SUBSTANCIAL\n",
              "40149          ACIDENTE  ...           DESTRUÍDA\n",
              "40150   INCIDENTE GRAVE  ...                LEVE\n",
              "\n",
              "[5 rows x 20 columns]"
            ]
          },
          "metadata": {},
          "execution_count": 3
        }
      ]
    },
    {
      "cell_type": "markdown",
      "metadata": {
        "id": "VGQHcxhwncUx"
      },
      "source": [
        "\n",
        "*   Colunas do Dataset."
      ]
    },
    {
      "cell_type": "code",
      "metadata": {
        "colab": {
          "base_uri": "https://localhost:8080/"
        },
        "id": "FAlILdWWnpsm",
        "outputId": "a2a76e73-26b1-4869-d3dd-f072fc7f2a51"
      },
      "source": [
        "dadosCenipa.columns.values"
      ],
      "execution_count": null,
      "outputs": [
        {
          "output_type": "execute_result",
          "data": {
            "text/plain": [
              "array(['tipo', 'descricao', 'cidade', 'estado', 'data', 'ano', 'hora',\n",
              "       'aeronave_liberada', 'status_investigacao', 'aeronaves_envolvidas',\n",
              "       'ocorrencia_saida_pista', 'aeronave_tipo', 'aeronave_fabricante',\n",
              "       'motor_tipo', 'aeronave_motor_quantidade', 'aeronave_assentos',\n",
              "       'aeronave_ano_fabricacao', 'aeronave_pais_fabricante',\n",
              "       'aeronave_fase_operacao', 'aeronave_nivel_dano'], dtype=object)"
            ]
          },
          "metadata": {},
          "execution_count": 17
        }
      ]
    },
    {
      "cell_type": "markdown",
      "metadata": {
        "id": "kGstj5yhoVWY"
      },
      "source": [
        "\n",
        "* Colunas que serão utilizadas."
      ]
    },
    {
      "cell_type": "code",
      "metadata": {
        "colab": {
          "base_uri": "https://localhost:8080/",
          "height": 596
        },
        "id": "1K_IbohHojS-",
        "outputId": "476fde33-f405-48f6-969d-00950fd81e43"
      },
      "source": [
        "#Escolhendo varíaveis para analisármos. \n",
        "colunasSelecionadas = [\n",
        "                       'codigo','tipo','cidade','estado','data',\n",
        "                       'status_investigacao','aeronave_tipo',\n",
        "                       'aeronave_fabricante','aeronave_assentos','aeronave_ano_fabricacao',\n",
        "                       'aeronave_fase_operacao','aeronave_nivel_dano']\n",
        "dadosCenipaSelecionados = dadosCenipa.filter(items = colunasSelecionadas)\n",
        "dadosCenipaSelecionados"
      ],
      "execution_count": null,
      "outputs": [
        {
          "output_type": "execute_result",
          "data": {
            "text/html": [
              "<div>\n",
              "<style scoped>\n",
              "    .dataframe tbody tr th:only-of-type {\n",
              "        vertical-align: middle;\n",
              "    }\n",
              "\n",
              "    .dataframe tbody tr th {\n",
              "        vertical-align: top;\n",
              "    }\n",
              "\n",
              "    .dataframe thead th {\n",
              "        text-align: right;\n",
              "    }\n",
              "</style>\n",
              "<table border=\"1\" class=\"dataframe\">\n",
              "  <thead>\n",
              "    <tr style=\"text-align: right;\">\n",
              "      <th></th>\n",
              "      <th>tipo</th>\n",
              "      <th>cidade</th>\n",
              "      <th>estado</th>\n",
              "      <th>data</th>\n",
              "      <th>status_investigacao</th>\n",
              "      <th>aeronave_tipo</th>\n",
              "      <th>aeronave_fabricante</th>\n",
              "      <th>aeronave_assentos</th>\n",
              "      <th>aeronave_ano_fabricacao</th>\n",
              "      <th>aeronave_fase_operacao</th>\n",
              "      <th>aeronave_nivel_dano</th>\n",
              "    </tr>\n",
              "    <tr>\n",
              "      <th>codigo</th>\n",
              "      <th></th>\n",
              "      <th></th>\n",
              "      <th></th>\n",
              "      <th></th>\n",
              "      <th></th>\n",
              "      <th></th>\n",
              "      <th></th>\n",
              "      <th></th>\n",
              "      <th></th>\n",
              "      <th></th>\n",
              "      <th></th>\n",
              "    </tr>\n",
              "  </thead>\n",
              "  <tbody>\n",
              "    <tr>\n",
              "      <th>40107</th>\n",
              "      <td>ACIDENTE</td>\n",
              "      <td>GURUPÁ</td>\n",
              "      <td>PA</td>\n",
              "      <td>12/01/2010</td>\n",
              "      <td>FINALIZADA</td>\n",
              "      <td>AVIÃO</td>\n",
              "      <td>NEIVA INDUSTRIA AERONAUTICA</td>\n",
              "      <td>7</td>\n",
              "      <td>1977</td>\n",
              "      <td>POUSO</td>\n",
              "      <td>LEVE</td>\n",
              "    </tr>\n",
              "    <tr>\n",
              "      <th>40147</th>\n",
              "      <td>ACIDENTE</td>\n",
              "      <td>UNIÃO DA VITÓRIA</td>\n",
              "      <td>PR</td>\n",
              "      <td>08/04/2010</td>\n",
              "      <td>FINALIZADA</td>\n",
              "      <td>AVIÃO</td>\n",
              "      <td>PIPER AIRCRAFT</td>\n",
              "      <td>6</td>\n",
              "      <td>1997</td>\n",
              "      <td>POUSO</td>\n",
              "      <td>SUBSTANCIAL</td>\n",
              "    </tr>\n",
              "    <tr>\n",
              "      <th>40148</th>\n",
              "      <td>ACIDENTE</td>\n",
              "      <td>CAMPO GRANDE</td>\n",
              "      <td>MS</td>\n",
              "      <td>19/03/2010</td>\n",
              "      <td>FINALIZADA</td>\n",
              "      <td>AVIÃO</td>\n",
              "      <td>CESSNA AIRCRAFT</td>\n",
              "      <td>6</td>\n",
              "      <td>1962</td>\n",
              "      <td>APROXIMAÇÃO FINAL</td>\n",
              "      <td>SUBSTANCIAL</td>\n",
              "    </tr>\n",
              "    <tr>\n",
              "      <th>40149</th>\n",
              "      <td>ACIDENTE</td>\n",
              "      <td>LUZIÂNIA</td>\n",
              "      <td>GO</td>\n",
              "      <td>21/03/2010</td>\n",
              "      <td>FINALIZADA</td>\n",
              "      <td>AVIÃO</td>\n",
              "      <td>XAVANTE</td>\n",
              "      <td>2</td>\n",
              "      <td>1974</td>\n",
              "      <td>DECOLAGEM</td>\n",
              "      <td>DESTRUÍDA</td>\n",
              "    </tr>\n",
              "    <tr>\n",
              "      <th>40150</th>\n",
              "      <td>INCIDENTE GRAVE</td>\n",
              "      <td>SANTA MARIA</td>\n",
              "      <td>RS</td>\n",
              "      <td>10/03/2010</td>\n",
              "      <td>FINALIZADA</td>\n",
              "      <td>AVIÃO</td>\n",
              "      <td>BEECH AIRCRAFT</td>\n",
              "      <td>6</td>\n",
              "      <td>1974</td>\n",
              "      <td>POUSO</td>\n",
              "      <td>LEVE</td>\n",
              "    </tr>\n",
              "    <tr>\n",
              "      <th>...</th>\n",
              "      <td>...</td>\n",
              "      <td>...</td>\n",
              "      <td>...</td>\n",
              "      <td>...</td>\n",
              "      <td>...</td>\n",
              "      <td>...</td>\n",
              "      <td>...</td>\n",
              "      <td>...</td>\n",
              "      <td>...</td>\n",
              "      <td>...</td>\n",
              "      <td>...</td>\n",
              "    </tr>\n",
              "    <tr>\n",
              "      <th>79117</th>\n",
              "      <td>ACIDENTE</td>\n",
              "      <td>ASSIS BRASIL</td>\n",
              "      <td>AC</td>\n",
              "      <td>23/10/2019</td>\n",
              "      <td>FINALIZADA</td>\n",
              "      <td>INDETERMINADO</td>\n",
              "      <td>FABRICANTE DESCONHECIDO</td>\n",
              "      <td>0</td>\n",
              "      <td>0</td>\n",
              "      <td>INDETERMINADO</td>\n",
              "      <td>DESTRUÍDA</td>\n",
              "    </tr>\n",
              "    <tr>\n",
              "      <th>79119</th>\n",
              "      <td>ACIDENTE</td>\n",
              "      <td>SÃO JOSÉ DO RIO CLARO</td>\n",
              "      <td>MT</td>\n",
              "      <td>11/10/2019</td>\n",
              "      <td>FINALIZADA</td>\n",
              "      <td>INDETERMINADO</td>\n",
              "      <td>FABRICANTE DESCONHECIDO</td>\n",
              "      <td>0</td>\n",
              "      <td>0</td>\n",
              "      <td>INDETERMINADO</td>\n",
              "      <td>DESTRUÍDA</td>\n",
              "    </tr>\n",
              "    <tr>\n",
              "      <th>79123</th>\n",
              "      <td>ACIDENTE</td>\n",
              "      <td>ANTONINA</td>\n",
              "      <td>PR</td>\n",
              "      <td>21/09/2019</td>\n",
              "      <td>FINALIZADA</td>\n",
              "      <td>TRIKE</td>\n",
              "      <td>INDETERMINADO</td>\n",
              "      <td>0</td>\n",
              "      <td>0</td>\n",
              "      <td>DECOLAGEM</td>\n",
              "      <td>SUBSTANCIAL</td>\n",
              "    </tr>\n",
              "    <tr>\n",
              "      <th>79203</th>\n",
              "      <td>INCIDENTE</td>\n",
              "      <td>FLORIANÓPOLIS</td>\n",
              "      <td>SC</td>\n",
              "      <td>20/12/2019</td>\n",
              "      <td>FINALIZADA</td>\n",
              "      <td>AVIÃO</td>\n",
              "      <td>CESSNA AIRCRAFT</td>\n",
              "      <td>2</td>\n",
              "      <td>1980</td>\n",
              "      <td>CORRIDA APÓS POUSO</td>\n",
              "      <td>LEVE</td>\n",
              "    </tr>\n",
              "    <tr>\n",
              "      <th>79227</th>\n",
              "      <td>ACIDENTE</td>\n",
              "      <td>NOVO PROGRESSO</td>\n",
              "      <td>PA</td>\n",
              "      <td>20/01/2017</td>\n",
              "      <td>FINALIZADA</td>\n",
              "      <td>AVIÃO</td>\n",
              "      <td>PIPER AIRCRAFT</td>\n",
              "      <td>8</td>\n",
              "      <td>1974</td>\n",
              "      <td>POUSO</td>\n",
              "      <td>SUBSTANCIAL</td>\n",
              "    </tr>\n",
              "  </tbody>\n",
              "</table>\n",
              "<p>5242 rows × 11 columns</p>\n",
              "</div>"
            ],
            "text/plain": [
              "                   tipo  ... aeronave_nivel_dano\n",
              "codigo                   ...                    \n",
              "40107          ACIDENTE  ...                LEVE\n",
              "40147          ACIDENTE  ...         SUBSTANCIAL\n",
              "40148          ACIDENTE  ...         SUBSTANCIAL\n",
              "40149          ACIDENTE  ...           DESTRUÍDA\n",
              "40150   INCIDENTE GRAVE  ...                LEVE\n",
              "...                 ...  ...                 ...\n",
              "79117          ACIDENTE  ...           DESTRUÍDA\n",
              "79119          ACIDENTE  ...           DESTRUÍDA\n",
              "79123          ACIDENTE  ...         SUBSTANCIAL\n",
              "79203         INCIDENTE  ...                LEVE\n",
              "79227          ACIDENTE  ...         SUBSTANCIAL\n",
              "\n",
              "[5242 rows x 11 columns]"
            ]
          },
          "metadata": {},
          "execution_count": 18
        }
      ]
    },
    {
      "cell_type": "markdown",
      "metadata": {
        "id": "b6pFX5MIsYS5"
      },
      "source": [
        "# Número de acidentes, acidentes graves e incidentes por estados\n",
        "\n",
        "Análise da quantidade de acidentes, acidentes graves e incidentes por UF, onde podemos constatar que o estado de São Paulo tem o maior indíce, seguido por Minas Gerais e Rio de Janeiro:"
      ]
    },
    {
      "cell_type": "code",
      "metadata": {
        "colab": {
          "base_uri": "https://localhost:8080/"
        },
        "id": "oTg1TCdYpM_3",
        "outputId": "df4c11bd-067a-4e15-ec11-87dceeb22eea"
      },
      "source": [
        "coluna_acidente_estado = dadosCenipaSelecionados['estado']\n",
        "coluna_acidente_estado.value_counts().sort_index()\n",
        "\n",
        "#acidentesEstado = dadosCenipaSelecionados [(dadosCenipaSelecionados['tipo'] == 'ACIDENTE')]\n",
        "\n",
        "#acidentesEstado.groupby(by='estado').size()\n"
      ],
      "execution_count": null,
      "outputs": [
        {
          "output_type": "execute_result",
          "data": {
            "text/plain": [
              "AC      54\n",
              "AL      30\n",
              "AM     217\n",
              "AP       9\n",
              "BA     200\n",
              "CE      78\n",
              "DF     129\n",
              "ES      70\n",
              "GO     286\n",
              "MA      68\n",
              "MG     482\n",
              "MS     132\n",
              "MT     255\n",
              "PA     263\n",
              "PB      23\n",
              "PE      90\n",
              "PI      36\n",
              "PR     441\n",
              "RJ     480\n",
              "RN      14\n",
              "RO      30\n",
              "RR      49\n",
              "RS     334\n",
              "SC     166\n",
              "SE      21\n",
              "SP    1239\n",
              "TO      46\n",
              "Name: estado, dtype: int64"
            ]
          },
          "metadata": {},
          "execution_count": 28
        }
      ]
    },
    {
      "cell_type": "markdown",
      "metadata": {
        "id": "vGSMRHzEtDLX"
      },
      "source": [
        "# Número de acidentes, acidentes graves e incidentes por cidades\n",
        "\n",
        "Análise da quantidade de acidentes, acidentes graves e incidentes por cidades:\n",
        "\n",
        "\n",
        "\n",
        "\n"
      ]
    },
    {
      "cell_type": "code",
      "metadata": {
        "colab": {
          "base_uri": "https://localhost:8080/"
        },
        "id": "2yi4l48F5AeT",
        "outputId": "f42cfbb8-86e7-40d8-bb73-aae5e4692ea4"
      },
      "source": [
        "coluna_acidente_cidade = dadosCenipaSelecionados['cidade']\n",
        "coluna_acidente_cidade.value_counts().sort_index()"
      ],
      "execution_count": null,
      "outputs": [
        {
          "output_type": "execute_result",
          "data": {
            "text/plain": [
              "ABADIA DE GOIÁS    2\n",
              "ACREÚNA            1\n",
              "AFONSO CLÁUDIO     1\n",
              "AFUÁ               2\n",
              "AGUAÍ              1\n",
              "                  ..\n",
              "ÁGUA CLARA         4\n",
              "ÁGUA LIMPA         1\n",
              "ÁLVARES MACHADO    2\n",
              "ÂNGULO             1\n",
              "ÓBIDOS             2\n",
              "Name: cidade, Length: 1042, dtype: int64"
            ]
          },
          "metadata": {},
          "execution_count": 13
        }
      ]
    },
    {
      "cell_type": "markdown",
      "metadata": {
        "id": "rqfKagHg5k81"
      },
      "source": [
        "# Número de acidentes, acidentes graves e incidentes por fabricantes\n",
        "\n",
        "Análise da quantidade de acidentes, acidentes graves e incidentes por fabricantes de aeronaves, onde podemos constatar que a fabricante AERO BOERO lidera o ranking com 179 acidentes totais:"
      ]
    },
    {
      "cell_type": "code",
      "metadata": {
        "colab": {
          "base_uri": "https://localhost:8080/"
        },
        "id": "1diV1ZRE5f1k",
        "outputId": "e0b4207a-8342-4e26-a59a-b36f3ef51509"
      },
      "source": [
        "coluna_acidente_fabricante = dadosCenipaSelecionados['aeronave_fabricante']\n",
        "coluna_acidente_fabricante.value_counts().sort_index()"
      ],
      "execution_count": null,
      "outputs": [
        {
          "output_type": "execute_result",
          "data": {
            "text/plain": [
              "AERO BOERO                                179\n",
              "AERO COMMANDER                              1\n",
              "AEROALCOOL TECNOLOGIA LTDA                  3\n",
              "AEROBRAVO                                   1\n",
              "AEROBRAVO INDÚSTRIA AERONÁUTICA LTDA        1\n",
              "                                         ... \n",
              "VECTOR ULTRALIGHT INDUSTRIA E COMERCIO      2\n",
              "VERA LUCIA NICIOLI                          1\n",
              "VINICIUS MARINI FERREIRA                    1\n",
              "WILLIAM DA SILVA MATIAS                     1\n",
              "XAVANTE                                    10\n",
              "Name: aeronave_fabricante, Length: 223, dtype: int64"
            ]
          },
          "metadata": {},
          "execution_count": 14
        }
      ]
    },
    {
      "cell_type": "markdown",
      "metadata": {
        "id": "f-JTh5BJec2t"
      },
      "source": [
        "-----------Guilherme--------------"
      ]
    },
    {
      "cell_type": "code",
      "metadata": {
        "id": "2HvIHkG6fC5_",
        "colab": {
          "base_uri": "https://localhost:8080/",
          "height": 455
        },
        "outputId": "36c54f06-fde4-49e2-ee81-0a7e64786171"
      },
      "source": [
        "colunasSelecionadas = [\n",
        "                       'tipo','descricao','hora','aeronave_tipo',\n",
        "                       ]\n",
        "dadosCenipaSelecionados = dadosCenipa.filter(items = colunasSelecionadas)\n",
        "dadosCenipaSelecionados"
      ],
      "execution_count": null,
      "outputs": [
        {
          "output_type": "execute_result",
          "data": {
            "text/html": [
              "<div>\n",
              "<style scoped>\n",
              "    .dataframe tbody tr th:only-of-type {\n",
              "        vertical-align: middle;\n",
              "    }\n",
              "\n",
              "    .dataframe tbody tr th {\n",
              "        vertical-align: top;\n",
              "    }\n",
              "\n",
              "    .dataframe thead th {\n",
              "        text-align: right;\n",
              "    }\n",
              "</style>\n",
              "<table border=\"1\" class=\"dataframe\">\n",
              "  <thead>\n",
              "    <tr style=\"text-align: right;\">\n",
              "      <th></th>\n",
              "      <th>tipo</th>\n",
              "      <th>descricao</th>\n",
              "      <th>hora</th>\n",
              "      <th>aeronave_tipo</th>\n",
              "    </tr>\n",
              "    <tr>\n",
              "      <th>codigo</th>\n",
              "      <th></th>\n",
              "      <th></th>\n",
              "      <th></th>\n",
              "      <th></th>\n",
              "    </tr>\n",
              "  </thead>\n",
              "  <tbody>\n",
              "    <tr>\n",
              "      <th>40107</th>\n",
              "      <td>ACIDENTE</td>\n",
              "      <td>COLISÃO COM OBSTÁCULO DURANTE A DECOLAGEM E POUSO</td>\n",
              "      <td>14:30:00</td>\n",
              "      <td>AVIÃO</td>\n",
              "    </tr>\n",
              "    <tr>\n",
              "      <th>40147</th>\n",
              "      <td>ACIDENTE</td>\n",
              "      <td>FALHA OU MAU FUNCIONAMENTO DE SISTEMA / COMPON...</td>\n",
              "      <td>14:20:00</td>\n",
              "      <td>AVIÃO</td>\n",
              "    </tr>\n",
              "    <tr>\n",
              "      <th>40148</th>\n",
              "      <td>ACIDENTE</td>\n",
              "      <td>PANE SECA</td>\n",
              "      <td>19:30:00</td>\n",
              "      <td>AVIÃO</td>\n",
              "    </tr>\n",
              "    <tr>\n",
              "      <th>40149</th>\n",
              "      <td>ACIDENTE</td>\n",
              "      <td>FALHA DO MOTOR EM VOO</td>\n",
              "      <td>20:45:00</td>\n",
              "      <td>AVIÃO</td>\n",
              "    </tr>\n",
              "    <tr>\n",
              "      <th>40150</th>\n",
              "      <td>INCIDENTE GRAVE</td>\n",
              "      <td>COM TREM DE POUSO</td>\n",
              "      <td>17:20:00</td>\n",
              "      <td>AVIÃO</td>\n",
              "    </tr>\n",
              "    <tr>\n",
              "      <th>...</th>\n",
              "      <td>...</td>\n",
              "      <td>...</td>\n",
              "      <td>...</td>\n",
              "      <td>...</td>\n",
              "    </tr>\n",
              "    <tr>\n",
              "      <th>79117</th>\n",
              "      <td>ACIDENTE</td>\n",
              "      <td>INDETERMINADO</td>\n",
              "      <td>15:00:00</td>\n",
              "      <td>INDETERMINADO</td>\n",
              "    </tr>\n",
              "    <tr>\n",
              "      <th>79119</th>\n",
              "      <td>ACIDENTE</td>\n",
              "      <td>INDETERMINADO</td>\n",
              "      <td>10:00:00</td>\n",
              "      <td>INDETERMINADO</td>\n",
              "    </tr>\n",
              "    <tr>\n",
              "      <th>79123</th>\n",
              "      <td>ACIDENTE</td>\n",
              "      <td>INDETERMINADO</td>\n",
              "      <td>18:30:00</td>\n",
              "      <td>TRIKE</td>\n",
              "    </tr>\n",
              "    <tr>\n",
              "      <th>79203</th>\n",
              "      <td>INCIDENTE</td>\n",
              "      <td>FALHA OU MAU FUNCIONAMENTO DE SISTEMA / COMPON...</td>\n",
              "      <td>16:37:00</td>\n",
              "      <td>AVIÃO</td>\n",
              "    </tr>\n",
              "    <tr>\n",
              "      <th>79227</th>\n",
              "      <td>ACIDENTE</td>\n",
              "      <td>OUTROS</td>\n",
              "      <td>16:24:00</td>\n",
              "      <td>AVIÃO</td>\n",
              "    </tr>\n",
              "  </tbody>\n",
              "</table>\n",
              "<p>5242 rows × 4 columns</p>\n",
              "</div>"
            ],
            "text/plain": [
              "                   tipo  ...  aeronave_tipo\n",
              "codigo                   ...               \n",
              "40107          ACIDENTE  ...          AVIÃO\n",
              "40147          ACIDENTE  ...          AVIÃO\n",
              "40148          ACIDENTE  ...          AVIÃO\n",
              "40149          ACIDENTE  ...          AVIÃO\n",
              "40150   INCIDENTE GRAVE  ...          AVIÃO\n",
              "...                 ...  ...            ...\n",
              "79117          ACIDENTE  ...  INDETERMINADO\n",
              "79119          ACIDENTE  ...  INDETERMINADO\n",
              "79123          ACIDENTE  ...          TRIKE\n",
              "79203         INCIDENTE  ...          AVIÃO\n",
              "79227          ACIDENTE  ...          AVIÃO\n",
              "\n",
              "[5242 rows x 4 columns]"
            ]
          },
          "metadata": {},
          "execution_count": 5
        }
      ]
    },
    {
      "cell_type": "markdown",
      "metadata": {
        "id": "gzrvwQ8cHL-5"
      },
      "source": [
        "---------LEANDRO----------\n",
        "\n",
        "# Regressão Linear\n",
        "\n",
        "Analise da relação entre o número de assentos e ano de fabricação das aeronaves envolvidas nos acidentes."
      ]
    },
    {
      "cell_type": "code",
      "metadata": {
        "id": "KmNupb05JDqx",
        "colab": {
          "base_uri": "https://localhost:8080/"
        },
        "outputId": "84abafa2-b4b8-42c9-dd16-1a660fb65660"
      },
      "source": [
        "dadosCenipaSelecionados.aeronave_assentos.corr(dadosCenipaSelecionados.aeronave_ano_fabricacao)"
      ],
      "execution_count": null,
      "outputs": [
        {
          "output_type": "execute_result",
          "data": {
            "text/plain": [
              "0.0234078955073887"
            ]
          },
          "metadata": {},
          "execution_count": 7
        }
      ]
    },
    {
      "cell_type": "code",
      "metadata": {
        "colab": {
          "base_uri": "https://localhost:8080/",
          "height": 294
        },
        "id": "4-zACLqtXElf",
        "outputId": "1fd671c6-8f7d-4b36-8fd5-e2716129f816"
      },
      "source": [
        "plt.scatter(dadosCenipaSelecionados.aeronave_assentos,dadosCenipaSelecionados.aeronave_ano_fabricacao)\n",
        "\n",
        "plt.title('Quantidade de assentos em relação ao ano de fabricação')\n",
        "plt.xlabel('Quantidade de assentos')\n",
        "plt.ylabel('Ano de fabricação')\n",
        "\n",
        "sns.despine()"
      ],
      "execution_count": null,
      "outputs": [
        {
          "output_type": "display_data",
          "data": {
            "image/png": "[encoded data removed]",
            "text/plain": [
              "<Figure size 432x288 with 1 Axes>"
            ]
          },
          "metadata": {
            "needs_background": "light"
          }
        }
      ]
    },
    {
      "cell_type": "code",
      "metadata": {
        "id": "nhdVC9IpXKod"
      },
      "source": [
        "from sklearn.linear_model import LinearRegression"
      ],
      "execution_count": null,
      "outputs": []
    },
    {
      "cell_type": "code",
      "metadata": {
        "colab": {
          "base_uri": "https://localhost:8080/"
        },
        "id": "uUZSWaRrXZ4f",
        "outputId": "ec9a5855-524b-4d5d-918d-e0c4f6ce5193"
      },
      "source": [
        "x = np.array(dadosCenipaSelecionados['aeronave_ano_fabricacao'])\n",
        "x = x.reshape(-1, 1)\n",
        "\n",
        "y = np.array(dadosCenipaSelecionados['aeronave_assentos'])\n",
        "\n",
        "# criação do modelo linear\n",
        "lm_model = LinearRegression(normalize=True)\n",
        "lm_model.fit(x, y)"
      ],
      "execution_count": null,
      "outputs": [
        {
          "output_type": "stream",
          "name": "stderr",
          "text": [
            "/usr/local/lib/python3.7/dist-packages/sklearn/linear_model/_base.py:145: FutureWarning:\n",
            "\n",
            "'normalize' was deprecated in version 1.0 and will be removed in 1.2.\n",
            "If you wish to scale the data, use Pipeline with a StandardScaler in a preprocessing stage. To reproduce the previous behavior:\n",
            "\n",
            "from sklearn.pipeline import make_pipeline\n",
            "\n",
            "model = make_pipeline(StandardScaler(with_mean=False), LinearRegression())\n",
            "\n",
            "If you wish to pass a sample_weight parameter, you need to pass it as a fit parameter to each step of the pipeline as follows:\n",
            "\n",
            "kwargs = {s[0] + '__sample_weight': sample_weight for s in model.steps}\n",
            "model.fit(X, y, **kwargs)\n",
            "\n",
            "\n",
            "\n"
          ]
        },
        {
          "output_type": "execute_result",
          "data": {
            "text/plain": [
              "LinearRegression(normalize=True)"
            ]
          },
          "metadata": {},
          "execution_count": 21
        }
      ]
    },
    {
      "cell_type": "code",
      "metadata": {
        "id": "WmHtiigFXcyx"
      },
      "source": [
        "# extrair coeficientes\n",
        "inclinacao = lm_model.coef_\n",
        "intersecao = lm_model.intercept_"
      ],
      "execution_count": null,
      "outputs": []
    },
    {
      "cell_type": "code",
      "metadata": {
        "colab": {
          "base_uri": "https://localhost:8080/"
        },
        "id": "4HQPvyqBXfK6",
        "outputId": "f6fb1d49-1941-4d1e-d48e-6a5385b3871b"
      },
      "source": [
        "print(f'a - interseção: \\t{format(intersecao)}')\n",
        "print(f'b - inclinação: \\t{format(inclinacao[0])}')\n",
        "print(f'Equação: \\t\\tŶ = {intersecao} + {inclinacao[0]} * X')"
      ],
      "execution_count": null,
      "outputs": [
        {
          "output_type": "stream",
          "name": "stdout",
          "text": [
            "a - interseção: \t22.88486293917338\n",
            "b - inclinação: \t0.0025172744294004734\n",
            "Equação: \t\tŶ = 22.88486293917338 + 0.0025172744294004734 * X\n"
          ]
        }
      ]
    },
    {
      "cell_type": "code",
      "metadata": {
        "colab": {
          "base_uri": "https://localhost:8080/",
          "height": 277
        },
        "id": "u9jiC3ErXhpS",
        "outputId": "69b3600b-3ae4-4848-c0f7-bb2117f67553"
      },
      "source": [
        "plt.scatter(x, y)\n",
        "plt.plot(x, (x * inclinacao + intersecao), color='g')\n",
        "plt.legend(['Reta de Ajustamento', 'Dispersão dos dados'])\n",
        "plt.title(\n",
        "    'Regressão Linear: Quanidade de assentos e ano de fabricação das aeronaves')\n",
        "plt.xticks([])\n",
        "plt.yticks([])\n",
        "plt.xlabel('Quantidade de assentos')\n",
        "plt.ylabel('Ano de fabricação')\n",
        "sns.despine()"
      ],
      "execution_count": null,
      "outputs": [
        {
          "output_type": "display_data",
          "data": {
            "image/png": "[encoded data removed]",
            "text/plain": [
              "<Figure size 432x288 with 1 Axes>"
            ]
          },
          "metadata": {}
        }
      ]
    },
    {
      "cell_type": "markdown",
      "metadata": {
        "id": "GWc4aYGpMgFu"
      },
      "source": [
        "------------- THAMIRES -------------"
      ]
    },
    {
      "cell_type": "code",
      "metadata": {
        "id": "o-erqZ_-Mn5B"
      },
      "source": [
        "from matplotlib import pyplot as plt\n",
        "import numpy as np\n",
        "import pandas as pd\n",
        "import seaborn as sns\n",
        "import plotly.offline as py\n",
        "import plotly.graph_objs as go\n",
        "\n",
        "df = pd.read_csv('/content/ocorrencias_cenipa.csv', index_col=0, sep=';', encoding='ISO-8859-1')"
      ],
      "execution_count": null,
      "outputs": []
    },
    {
      "cell_type": "markdown",
      "metadata": {
        "id": "mo-bzNWqTEga"
      },
      "source": [
        "VARIÁVEL \"TIPO:\""
      ]
    },
    {
      "cell_type": "code",
      "metadata": {
        "colab": {
          "base_uri": "https://localhost:8080/",
          "height": 366
        },
        "id": "4U0veJfrCsgv",
        "outputId": "99638348-7ec2-4594-f7e6-9fe98c72e2a8"
      },
      "source": [
        "df.tipo.value_counts().plot(kind='bar')\n",
        "plt.ylabel('QUANTIDADE DE REGISTROS')"
      ],
      "execution_count": null,
      "outputs": [
        {
          "output_type": "execute_result",
          "data": {
            "text/plain": [
              "Text(0, 0.5, 'QUANTIDADE DE REGISTROS')"
            ]
          },
          "metadata": {},
          "execution_count": 13
        },
        {
          "output_type": "display_data",
          "data": {
            "image/png": "[encoded data removed]",
            "text/plain": [
              "<Figure size 432x288 with 1 Axes>"
            ]
          },
          "metadata": {
            "needs_background": "light"
          }
        }
      ]
    },
    {
      "cell_type": "code",
      "metadata": {
        "colab": {
          "base_uri": "https://localhost:8080/"
        },
        "id": "fPpgPFy6R4vP",
        "outputId": "4efc3449-5490-45fc-a6f3-a89bca8f8434"
      },
      "source": [
        "print(\"Média:\")\n",
        "df.tipo.value_counts().mean()"
      ],
      "execution_count": null,
      "outputs": [
        {
          "output_type": "stream",
          "name": "stdout",
          "text": [
            "Média :\n"
          ]
        },
        {
          "output_type": "execute_result",
          "data": {
            "text/plain": [
              "1747.3333333333333"
            ]
          },
          "metadata": {},
          "execution_count": 14
        }
      ]
    },
    {
      "cell_type": "code",
      "metadata": {
        "colab": {
          "base_uri": "https://localhost:8080/"
        },
        "id": "tXo-hP_0R2_z",
        "outputId": "9ed54fad-05a0-4688-affe-5d25234e7d35"
      },
      "source": [
        "print(\"Moda:\")\n",
        "df.tipo.value_counts().mode()"
      ],
      "execution_count": null,
      "outputs": [
        {
          "output_type": "stream",
          "name": "stdout",
          "text": [
            "Moda :\n"
          ]
        },
        {
          "output_type": "execute_result",
          "data": {
            "text/plain": [
              "0     661\n",
              "1    1694\n",
              "2    2887\n",
              "dtype: int64"
            ]
          },
          "metadata": {},
          "execution_count": 15
        }
      ]
    },
    {
      "cell_type": "code",
      "metadata": {
        "colab": {
          "base_uri": "https://localhost:8080/"
        },
        "id": "o-UapWd8S2so",
        "outputId": "a205b668-62d2-4251-cdca-1d7896755399"
      },
      "source": [
        "print(\"Mediana:\")\n",
        "df.tipo.value_counts().median()"
      ],
      "execution_count": null,
      "outputs": [
        {
          "output_type": "stream",
          "name": "stdout",
          "text": [
            "Mediana:\n"
          ]
        },
        {
          "output_type": "execute_result",
          "data": {
            "text/plain": [
              "1694.0"
            ]
          },
          "metadata": {},
          "execution_count": 20
        }
      ]
    },
    {
      "cell_type": "code",
      "metadata": {
        "colab": {
          "base_uri": "https://localhost:8080/"
        },
        "id": "blcaipp9SLW4",
        "outputId": "f5993d48-3f4a-4c7e-8b93-a4addddbffed"
      },
      "source": [
        "print(\"Desvio padrão:\")\n",
        "df.tipo.value_counts().std()"
      ],
      "execution_count": null,
      "outputs": [
        {
          "output_type": "stream",
          "name": "stdout",
          "text": [
            "Desvio padrão:\n"
          ]
        },
        {
          "output_type": "execute_result",
          "data": {
            "text/plain": [
              "1113.9579585124986"
            ]
          },
          "metadata": {},
          "execution_count": 18
        }
      ]
    },
    {
      "cell_type": "markdown",
      "metadata": {
        "id": "5Xpl10-mTJ6f"
      },
      "source": [
        "VARIÁVEL \"ESTADO\":"
      ]
    },
    {
      "cell_type": "code",
      "metadata": {
        "colab": {
          "base_uri": "https://localhost:8080/",
          "height": 290
        },
        "id": "C8USGCJMErWv",
        "outputId": "fa4a3c54-e7d0-4e6a-8394-7dc085bf575b"
      },
      "source": [
        "df.estado.value_counts().plot(kind='bar')\n",
        "plt.ylabel('QUANTIDADE DE REGISTROS')"
      ],
      "execution_count": null,
      "outputs": [
        {
          "output_type": "execute_result",
          "data": {
            "text/plain": [
              "Text(0, 0.5, 'QUANTIDADE DE REGISTROS')"
            ]
          },
          "metadata": {},
          "execution_count": 9
        },
        {
          "output_type": "display_data",
          "data": {
            "image/png": "[encoded data removed]",
            "text/plain": [
              "<Figure size 432x288 with 1 Axes>"
            ]
          },
          "metadata": {
            "needs_background": "light"
          }
        }
      ]
    },
    {
      "cell_type": "code",
      "metadata": {
        "colab": {
          "base_uri": "https://localhost:8080/"
        },
        "id": "A7zu1NPNTQcH",
        "outputId": "11e4272e-42e5-4c60-c117-073b8fc2ea4f"
      },
      "source": [
        "print(\"Média:\")\n",
        "df.estado.value_counts().mean()\n",
        "\n"
      ],
      "execution_count": null,
      "outputs": [
        {
          "output_type": "stream",
          "name": "stdout",
          "text": [
            "Média:\n",
            "Moda:\n",
            "Mediana:\n",
            "Desvio padrão:\n"
          ]
        },
        {
          "output_type": "execute_result",
          "data": {
            "text/plain": [
              "254.6748611470808"
            ]
          },
          "metadata": {},
          "execution_count": 22
        }
      ]
    },
    {
      "cell_type": "code",
      "metadata": {
        "colab": {
          "base_uri": "https://localhost:8080/"
        },
        "id": "T6DShPpXTxea",
        "outputId": "7e172b5a-7c86-458f-d4e2-d1bab621d4fe"
      },
      "source": [
        "print(\"Moda:\")\n",
        "df.estado.value_counts().mode()\n"
      ],
      "execution_count": null,
      "outputs": [
        {
          "output_type": "stream",
          "name": "stdout",
          "text": [
            "Moda:\n"
          ]
        },
        {
          "output_type": "execute_result",
          "data": {
            "text/plain": [
              "0    30\n",
              "dtype: int64"
            ]
          },
          "metadata": {},
          "execution_count": 23
        }
      ]
    },
    {
      "cell_type": "code",
      "metadata": {
        "colab": {
          "base_uri": "https://localhost:8080/"
        },
        "id": "-adH5sKNTybM",
        "outputId": "edbb5f61-f4b3-4118-c12b-63af5034f750"
      },
      "source": [
        "\n",
        "print(\"Mediana:\")\n",
        "df.estado.value_counts().median()\n"
      ],
      "execution_count": null,
      "outputs": [
        {
          "output_type": "stream",
          "name": "stdout",
          "text": [
            "Mediana:\n"
          ]
        },
        {
          "output_type": "execute_result",
          "data": {
            "text/plain": [
              "90.0"
            ]
          },
          "metadata": {},
          "execution_count": 24
        }
      ]
    },
    {
      "cell_type": "code",
      "metadata": {
        "colab": {
          "base_uri": "https://localhost:8080/"
        },
        "id": "OtTROoXZTz1a",
        "outputId": "ac27ae51-0622-445c-fa2b-0cf784f35f06"
      },
      "source": [
        "\n",
        "print(\"Desvio padrão:\")\n",
        "df.estado.value_counts().std()"
      ],
      "execution_count": null,
      "outputs": [
        {
          "output_type": "stream",
          "name": "stdout",
          "text": [
            "Desvio padrão:\n"
          ]
        },
        {
          "output_type": "execute_result",
          "data": {
            "text/plain": [
              "254.6748611470808"
            ]
          },
          "metadata": {},
          "execution_count": 25
        }
      ]
    },
    {
      "cell_type": "markdown",
      "metadata": {
        "id": "QM1v2i2BUkAw"
      },
      "source": [
        "VARIÁVEL \"ANO\""
      ]
    },
    {
      "cell_type": "code",
      "metadata": {
        "colab": {
          "base_uri": "https://localhost:8080/",
          "height": 298
        },
        "id": "rj5YOQ5YFZkW",
        "outputId": "36e0a545-9664-403d-f51b-7f2624f350d2"
      },
      "source": [
        "df.ano.value_counts().plot(kind='bar')\n",
        "plt.ylabel('QUANTIDADE DE REGISTROS')"
      ],
      "execution_count": null,
      "outputs": [
        {
          "output_type": "execute_result",
          "data": {
            "text/plain": [
              "Text(0, 0.5, 'QUANTIDADE DE REGISTROS')"
            ]
          },
          "metadata": {},
          "execution_count": 4
        },
        {
          "output_type": "display_data",
          "data": {
            "image/png": "[encoded data removed]",
            "text/plain": [
              "<Figure size 432x288 with 1 Axes>"
            ]
          },
          "metadata": {
            "needs_background": "light"
          }
        }
      ]
    },
    {
      "cell_type": "code",
      "metadata": {
        "colab": {
          "base_uri": "https://localhost:8080/"
        },
        "id": "aUP9-htkUfhz",
        "outputId": "3b584df8-4c56-4aa6-d148-4f2526c33954"
      },
      "source": [
        "print(\"Média:\")\n",
        "df.ano.value_counts().mean()"
      ],
      "execution_count": null,
      "outputs": [
        {
          "output_type": "stream",
          "name": "stdout",
          "text": [
            "Média:\n"
          ]
        },
        {
          "output_type": "execute_result",
          "data": {
            "text/plain": [
              "524.2"
            ]
          },
          "metadata": {},
          "execution_count": 32
        }
      ]
    },
    {
      "cell_type": "code",
      "metadata": {
        "colab": {
          "base_uri": "https://localhost:8080/"
        },
        "id": "SURH238OWxsO",
        "outputId": "3bb1a55b-fb60-4ec2-ef87-1a60f245805b"
      },
      "source": [
        "print(\"Moda:\")\n",
        "df.ano.value_counts().mode()"
      ],
      "execution_count": null,
      "outputs": [
        {
          "output_type": "stream",
          "name": "stdout",
          "text": [
            "Moda:\n"
          ]
        },
        {
          "output_type": "execute_result",
          "data": {
            "text/plain": [
              "0    403\n",
              "1    434\n",
              "2    443\n",
              "3    471\n",
              "4    496\n",
              "5    552\n",
              "6    567\n",
              "7    576\n",
              "8    647\n",
              "9    653\n",
              "dtype: int64"
            ]
          },
          "metadata": {},
          "execution_count": 33
        }
      ]
    },
    {
      "cell_type": "code",
      "metadata": {
        "colab": {
          "base_uri": "https://localhost:8080/"
        },
        "id": "bA-pxGF4WzVO",
        "outputId": "d3481197-197d-4f70-abfa-f1b9860a8b34"
      },
      "source": [
        "print(\"Mediana:\")\n",
        "df.ano.value_counts().median()"
      ],
      "execution_count": null,
      "outputs": [
        {
          "output_type": "stream",
          "name": "stdout",
          "text": [
            "Mediana:\n"
          ]
        },
        {
          "output_type": "execute_result",
          "data": {
            "text/plain": [
              "524.0"
            ]
          },
          "metadata": {},
          "execution_count": 34
        }
      ]
    },
    {
      "cell_type": "code",
      "metadata": {
        "colab": {
          "base_uri": "https://localhost:8080/"
        },
        "id": "bGvfYPiPW0nv",
        "outputId": "60260bcc-1635-4754-a0e9-8035f90590ca"
      },
      "source": [
        "print(\"Desvio padrão:\")\n",
        "df.ano.value_counts().std()"
      ],
      "execution_count": null,
      "outputs": [
        {
          "output_type": "stream",
          "name": "stdout",
          "text": [
            "Desvio padrão:\n"
          ]
        },
        {
          "output_type": "execute_result",
          "data": {
            "text/plain": [
              "88.19271826832166"
            ]
          },
          "metadata": {},
          "execution_count": 35
        }
      ]
    },
    {
      "cell_type": "markdown",
      "metadata": {
        "id": "H2Xf0c_8W60s"
      },
      "source": [
        "VARIÁVEL \"AERONAVE LIBERADA\""
      ]
    },
    {
      "cell_type": "code",
      "metadata": {
        "colab": {
          "base_uri": "https://localhost:8080/",
          "height": 358
        },
        "id": "TO3vhMY4Fuhv",
        "outputId": "95341540-923a-4067-d7e9-4257ebd7bdaa"
      },
      "source": [
        "df.aeronave_liberada.value_counts().plot(kind='bar')\n",
        "plt.ylabel('QUANTIDADE DE REGISTROS')"
      ],
      "execution_count": null,
      "outputs": [
        {
          "output_type": "execute_result",
          "data": {
            "text/plain": [
              "Text(0, 0.5, 'QUANTIDADE DE REGISTROS')"
            ]
          },
          "metadata": {},
          "execution_count": 14
        },
        {
          "output_type": "display_data",
          "data": {
            "image/png": "[encoded data removed]",
            "text/plain": [
              "<Figure size 432x288 with 1 Axes>"
            ]
          },
          "metadata": {
            "needs_background": "light"
          }
        }
      ]
    },
    {
      "cell_type": "code",
      "metadata": {
        "colab": {
          "base_uri": "https://localhost:8080/"
        },
        "id": "1-S6I5odXC-J",
        "outputId": "f08aa76d-7e87-469a-a945-6ea52ecd80d7"
      },
      "source": [
        "print(\"Média:\")\n",
        "df.aeronave_liberada.value_counts().mean()"
      ],
      "execution_count": null,
      "outputs": [
        {
          "output_type": "stream",
          "name": "stdout",
          "text": [
            "Média:\n"
          ]
        },
        {
          "output_type": "execute_result",
          "data": {
            "text/plain": [
              "1747.3333333333333"
            ]
          },
          "metadata": {},
          "execution_count": 36
        }
      ]
    },
    {
      "cell_type": "code",
      "metadata": {
        "colab": {
          "base_uri": "https://localhost:8080/"
        },
        "id": "PgAl9kKHXNVM",
        "outputId": "38bf0ff2-ea81-43f5-b5c8-44f7348c1d1b"
      },
      "source": [
        "print(\"Moda:\")\n",
        "df.aeronave_liberada.value_counts().mode()"
      ],
      "execution_count": null,
      "outputs": [
        {
          "output_type": "stream",
          "name": "stdout",
          "text": [
            "Moda:\n"
          ]
        },
        {
          "output_type": "execute_result",
          "data": {
            "text/plain": [
              "0     136\n",
              "1    2419\n",
              "2    2687\n",
              "dtype: int64"
            ]
          },
          "metadata": {},
          "execution_count": 37
        }
      ]
    },
    {
      "cell_type": "code",
      "metadata": {
        "colab": {
          "base_uri": "https://localhost:8080/"
        },
        "id": "vBeiGW_DXO_u",
        "outputId": "97c0abd9-b590-4210-cf53-4f95ac44a74b"
      },
      "source": [
        "print(\"Mediana:\")\n",
        "df.aeronave_liberada.value_counts().median()"
      ],
      "execution_count": null,
      "outputs": [
        {
          "output_type": "stream",
          "name": "stdout",
          "text": [
            "Mediana:\n"
          ]
        },
        {
          "output_type": "execute_result",
          "data": {
            "text/plain": [
              "2419.0"
            ]
          },
          "metadata": {},
          "execution_count": 38
        }
      ]
    },
    {
      "cell_type": "code",
      "metadata": {
        "colab": {
          "base_uri": "https://localhost:8080/"
        },
        "id": "GmYVK2M-XQaO",
        "outputId": "c759ec15-2c29-429f-8bed-3514e21c2a7d"
      },
      "source": [
        "print(\"Desvio padrão:\")\n",
        "df.aeronave_liberada.value_counts().std()"
      ],
      "execution_count": null,
      "outputs": [
        {
          "output_type": "stream",
          "name": "stdout",
          "text": [
            "Desvio padrão:\n"
          ]
        },
        {
          "output_type": "execute_result",
          "data": {
            "text/plain": [
              "1401.874578317666"
            ]
          },
          "metadata": {},
          "execution_count": 39
        }
      ]
    },
    {
      "cell_type": "markdown",
      "metadata": {
        "id": "wyMFqAw7Xhlz"
      },
      "source": [
        "VARIÁVEL \"STATUS INVESTIGAÇÃO\""
      ]
    },
    {
      "cell_type": "code",
      "metadata": {
        "colab": {
          "base_uri": "https://localhost:8080/",
          "height": 356
        },
        "id": "VT8mSpuLF0L2",
        "outputId": "b81bed26-bfe1-49a3-c9de-7c708f0a4888"
      },
      "source": [
        "df.status_investigacao.value_counts().plot(kind='bar')\n",
        "plt.ylabel('QUANTIDADE DE REGISTROS')"
      ],
      "execution_count": null,
      "outputs": [
        {
          "output_type": "execute_result",
          "data": {
            "text/plain": [
              "Text(0, 0.5, 'QUANTIDADE DE REGISTROS')"
            ]
          },
          "metadata": {},
          "execution_count": 15
        },
        {
          "output_type": "display_data",
          "data": {
            "image/png": "[encoded data removed]",
            "text/plain": [
              "<Figure size 432x288 with 1 Axes>"
            ]
          },
          "metadata": {
            "needs_background": "light"
          }
        }
      ]
    },
    {
      "cell_type": "code",
      "metadata": {
        "colab": {
          "base_uri": "https://localhost:8080/"
        },
        "id": "LXdxOTF5XoOB",
        "outputId": "bdfd3eb7-a25b-4e52-f557-e23b15939cec"
      },
      "source": [
        "print(\"Média:\")\n",
        "df.status_investigacao.value_counts().mean()"
      ],
      "execution_count": null,
      "outputs": [
        {
          "output_type": "stream",
          "name": "stdout",
          "text": [
            "Média:\n"
          ]
        },
        {
          "output_type": "execute_result",
          "data": {
            "text/plain": [
              "1747.3333333333333"
            ]
          },
          "metadata": {},
          "execution_count": 40
        }
      ]
    },
    {
      "cell_type": "code",
      "metadata": {
        "colab": {
          "base_uri": "https://localhost:8080/"
        },
        "id": "uo-uZSsZXvwv",
        "outputId": "a385b698-8a09-4f56-8f31-b712524193ad"
      },
      "source": [
        "print(\"Moda:\")\n",
        "df.status_investigacao.value_counts().mode()"
      ],
      "execution_count": null,
      "outputs": [
        {
          "output_type": "stream",
          "name": "stdout",
          "text": [
            "Moda:\n"
          ]
        },
        {
          "output_type": "execute_result",
          "data": {
            "text/plain": [
              "0     360\n",
              "1     816\n",
              "2    4066\n",
              "dtype: int64"
            ]
          },
          "metadata": {},
          "execution_count": 41
        }
      ]
    },
    {
      "cell_type": "code",
      "metadata": {
        "colab": {
          "base_uri": "https://localhost:8080/"
        },
        "id": "SpS5wAtoXxOx",
        "outputId": "0f61a81c-6ac0-4ac3-e800-c7d8e2d9a4c4"
      },
      "source": [
        "print(\"Mediana:\")\n",
        "df.status_investigacao.value_counts().median()"
      ],
      "execution_count": null,
      "outputs": [
        {
          "output_type": "stream",
          "name": "stdout",
          "text": [
            "Mediana:\n"
          ]
        },
        {
          "output_type": "execute_result",
          "data": {
            "text/plain": [
              "816.0"
            ]
          },
          "metadata": {},
          "execution_count": 42
        }
      ]
    },
    {
      "cell_type": "code",
      "metadata": {
        "colab": {
          "base_uri": "https://localhost:8080/"
        },
        "id": "jix7ss7UXyqP",
        "outputId": "d8bffe53-8ed2-49ff-df0c-c00694cb8bf0"
      },
      "source": [
        "print(\"Desvio padrão:\")\n",
        "df.status_investigacao.value_counts().std()"
      ],
      "execution_count": null,
      "outputs": [
        {
          "output_type": "stream",
          "name": "stdout",
          "text": [
            "Desvio padrão:\n"
          ]
        },
        {
          "output_type": "execute_result",
          "data": {
            "text/plain": [
              "2020.9268500698718"
            ]
          },
          "metadata": {},
          "execution_count": 43
        }
      ]
    },
    {
      "cell_type": "markdown",
      "metadata": {
        "id": "2zWQHlD9YAlc"
      },
      "source": [
        "VARIÁVEL \"AERONAVES ENVOLVIDAS\""
      ]
    },
    {
      "cell_type": "code",
      "metadata": {
        "colab": {
          "base_uri": "https://localhost:8080/",
          "height": 279
        },
        "id": "8SbD54VZF4iF",
        "outputId": "e9a3807e-b76d-43ca-f154-20f607922b97"
      },
      "source": [
        "df.aeronaves_envolvidas.value_counts().plot(kind='bar')\n",
        "plt.ylabel('QUANTIDADE DE REGISTROS')"
      ],
      "execution_count": null,
      "outputs": [
        {
          "output_type": "execute_result",
          "data": {
            "text/plain": [
              "Text(0, 0.5, 'QUANTIDADE DE REGISTROS')"
            ]
          },
          "metadata": {},
          "execution_count": 16
        },
        {
          "output_type": "display_data",
          "data": {
            "image/png": "[encoded data removed]",
            "text/plain": [
              "<Figure size 432x288 with 1 Axes>"
            ]
          },
          "metadata": {
            "needs_background": "light"
          }
        }
      ]
    },
    {
      "cell_type": "code",
      "metadata": {
        "colab": {
          "base_uri": "https://localhost:8080/"
        },
        "id": "CHACCmDeYJtW",
        "outputId": "136ed9a4-7625-4f87-d55d-95369506cedc"
      },
      "source": [
        "print(\"Média:\")\n",
        "df.aeronaves_envolvidas.value_counts().mean()"
      ],
      "execution_count": null,
      "outputs": [
        {
          "output_type": "stream",
          "name": "stdout",
          "text": [
            "Média:\n"
          ]
        },
        {
          "output_type": "execute_result",
          "data": {
            "text/plain": [
              "1747.3333333333333"
            ]
          },
          "metadata": {},
          "execution_count": 44
        }
      ]
    },
    {
      "cell_type": "code",
      "metadata": {
        "colab": {
          "base_uri": "https://localhost:8080/"
        },
        "id": "uyZsTKmxYVj5",
        "outputId": "257dd983-21cd-4dd8-d991-58c78325c81f"
      },
      "source": [
        "print(\"Moda:\")\n",
        "df.aeronaves_envolvidas.value_counts().mode()"
      ],
      "execution_count": null,
      "outputs": [
        {
          "output_type": "stream",
          "name": "stdout",
          "text": [
            "Moda:\n"
          ]
        },
        {
          "output_type": "execute_result",
          "data": {
            "text/plain": [
              "0       2\n",
              "1      58\n",
              "2    5182\n",
              "dtype: int64"
            ]
          },
          "metadata": {},
          "execution_count": 46
        }
      ]
    },
    {
      "cell_type": "code",
      "metadata": {
        "colab": {
          "base_uri": "https://localhost:8080/"
        },
        "id": "sf1Htc1zYW0D",
        "outputId": "c5500bb6-697c-44c8-cba6-b3797c17678e"
      },
      "source": [
        "print(\"Mediana:\")\n",
        "df.aeronaves_envolvidas.value_counts().median()"
      ],
      "execution_count": null,
      "outputs": [
        {
          "output_type": "stream",
          "name": "stdout",
          "text": [
            "Mediana:\n"
          ]
        },
        {
          "output_type": "execute_result",
          "data": {
            "text/plain": [
              "58.0"
            ]
          },
          "metadata": {},
          "execution_count": 47
        }
      ]
    },
    {
      "cell_type": "code",
      "metadata": {
        "colab": {
          "base_uri": "https://localhost:8080/"
        },
        "id": "Kv_6Dlp0YYRs",
        "outputId": "f19df5bc-1e35-4fc8-c284-154eab8584fb"
      },
      "source": [
        "print(\"Desvio padrão:\")\n",
        "df.aeronaves_envolvidas.value_counts().std()"
      ],
      "execution_count": null,
      "outputs": [
        {
          "output_type": "stream",
          "name": "stdout",
          "text": [
            "Desvio padrão:\n"
          ]
        },
        {
          "output_type": "execute_result",
          "data": {
            "text/plain": [
              "2974.640370420151"
            ]
          },
          "metadata": {},
          "execution_count": 48
        }
      ]
    },
    {
      "cell_type": "markdown",
      "metadata": {
        "id": "aGmptAjHYmPH"
      },
      "source": [
        "VARIÁVEL \"OCORRENCIA SAÍDA PISTA\""
      ]
    },
    {
      "cell_type": "code",
      "metadata": {
        "colab": {
          "base_uri": "https://localhost:8080/",
          "height": 298
        },
        "id": "YKFnQ1YuGCcp",
        "outputId": "a5457908-e74a-4003-b74c-143791342f05"
      },
      "source": [
        "df.ocorrencia_saida_pista.value_counts().plot(kind='bar')\n",
        "plt.ylabel('QUANTIDADE DE REGISTROS')"
      ],
      "execution_count": null,
      "outputs": [
        {
          "output_type": "execute_result",
          "data": {
            "text/plain": [
              "Text(0, 0.5, 'QUANTIDADE DE REGISTROS')"
            ]
          },
          "metadata": {},
          "execution_count": 17
        },
        {
          "output_type": "display_data",
          "data": {
            "image/png": "[encoded data removed]",
            "text/plain": [
              "<Figure size 432x288 with 1 Axes>"
            ]
          },
          "metadata": {
            "needs_background": "light"
          }
        }
      ]
    },
    {
      "cell_type": "code",
      "metadata": {
        "colab": {
          "base_uri": "https://localhost:8080/"
        },
        "id": "uuNuq9OgYqaP",
        "outputId": "29782531-cd6e-49a7-8cb1-654cc1003fc7"
      },
      "source": [
        "print(\"Média:\")\n",
        "df.ocorrencia_saida_pista.value_counts().mean()"
      ],
      "execution_count": null,
      "outputs": [
        {
          "output_type": "stream",
          "name": "stdout",
          "text": [
            "Média:\n"
          ]
        },
        {
          "output_type": "execute_result",
          "data": {
            "text/plain": [
              "2621.0"
            ]
          },
          "metadata": {},
          "execution_count": 49
        }
      ]
    },
    {
      "cell_type": "code",
      "metadata": {
        "colab": {
          "base_uri": "https://localhost:8080/"
        },
        "id": "E4J4hVRRY0pY",
        "outputId": "cd00128c-82ea-41f4-a15a-2107d8a5a413"
      },
      "source": [
        "print(\"Moda:\")\n",
        "df.ocorrencia_saida_pista.value_counts().mode()"
      ],
      "execution_count": null,
      "outputs": [
        {
          "output_type": "stream",
          "name": "stdout",
          "text": [
            "Moda:\n"
          ]
        },
        {
          "output_type": "execute_result",
          "data": {
            "text/plain": [
              "0     458\n",
              "1    4784\n",
              "dtype: int64"
            ]
          },
          "metadata": {},
          "execution_count": 50
        }
      ]
    },
    {
      "cell_type": "code",
      "metadata": {
        "colab": {
          "base_uri": "https://localhost:8080/"
        },
        "id": "W3qSykmpY2Pu",
        "outputId": "e3b58ae2-3c2b-4776-bd4c-797f7568ff7e"
      },
      "source": [
        "print(\"Mediana:\")\n",
        "df.ocorrencia_saida_pista.value_counts().median()"
      ],
      "execution_count": null,
      "outputs": [
        {
          "output_type": "stream",
          "name": "stdout",
          "text": [
            "Mediana:\n"
          ]
        },
        {
          "output_type": "execute_result",
          "data": {
            "text/plain": [
              "2621.0"
            ]
          },
          "metadata": {},
          "execution_count": 51
        }
      ]
    },
    {
      "cell_type": "code",
      "metadata": {
        "colab": {
          "base_uri": "https://localhost:8080/"
        },
        "id": "lGVgeM1JY3wQ",
        "outputId": "8aeeb9d2-cf2b-4e3b-9390-199e0448ff21"
      },
      "source": [
        "print(\"Desvio padrão:\")\n",
        "df.ocorrencia_saida_pista.value_counts().std()"
      ],
      "execution_count": null,
      "outputs": [
        {
          "output_type": "stream",
          "name": "stdout",
          "text": [
            "Desvio padrão:\n"
          ]
        },
        {
          "output_type": "execute_result",
          "data": {
            "text/plain": [
              "3058.9439354130045"
            ]
          },
          "metadata": {},
          "execution_count": 52
        }
      ]
    },
    {
      "cell_type": "markdown",
      "metadata": {
        "id": "GLa1D0SGZcCP"
      },
      "source": [
        "VARIÁVEL \"TIPO AERONAVE\""
      ]
    },
    {
      "cell_type": "code",
      "metadata": {
        "colab": {
          "base_uri": "https://localhost:8080/",
          "height": 358
        },
        "id": "8EGAkljlGfG2",
        "outputId": "42ac466d-2a02-4fa6-b6ad-ea0f441c1429"
      },
      "source": [
        "df.aeronave_tipo.value_counts().plot(kind='bar')\n",
        "plt.ylabel('QUANTIDADE DE REGISTROS')"
      ],
      "execution_count": null,
      "outputs": [
        {
          "output_type": "execute_result",
          "data": {
            "text/plain": [
              "Text(0, 0.5, 'QUANTIDADE DE REGISTROS')"
            ]
          },
          "metadata": {},
          "execution_count": 20
        },
        {
          "output_type": "display_data",
          "data": {
            "image/png": "[encoded data removed]",
            "text/plain": [
              "<Figure size 432x288 with 1 Axes>"
            ]
          },
          "metadata": {
            "needs_background": "light"
          }
        }
      ]
    },
    {
      "cell_type": "code",
      "metadata": {
        "colab": {
          "base_uri": "https://localhost:8080/"
        },
        "id": "OLhKTh2cZhMK",
        "outputId": "bf42e1d8-19be-47fb-f98e-83729d1c4d47"
      },
      "source": [
        "print(\"Média:\")\n",
        "df.aeronave_tipo.value_counts().mean()"
      ],
      "execution_count": null,
      "outputs": [
        {
          "output_type": "stream",
          "name": "stdout",
          "text": [
            "Média:\n"
          ]
        },
        {
          "output_type": "execute_result",
          "data": {
            "text/plain": [
              "524.2"
            ]
          },
          "metadata": {},
          "execution_count": 53
        }
      ]
    },
    {
      "cell_type": "code",
      "metadata": {
        "colab": {
          "base_uri": "https://localhost:8080/"
        },
        "id": "um6dlm9nZn87",
        "outputId": "d4f9386f-26d9-4e3f-f5b1-8931b5b0b567"
      },
      "source": [
        "print(\"Moda:\")\n",
        "df.aeronave_tipo.value_counts().mode()"
      ],
      "execution_count": null,
      "outputs": [
        {
          "output_type": "stream",
          "name": "stdout",
          "text": [
            "Moda:\n"
          ]
        },
        {
          "output_type": "execute_result",
          "data": {
            "text/plain": [
              "0    1\n",
              "dtype: int64"
            ]
          },
          "metadata": {},
          "execution_count": 54
        }
      ]
    },
    {
      "cell_type": "code",
      "metadata": {
        "colab": {
          "base_uri": "https://localhost:8080/"
        },
        "id": "6Ceh-tTIZpfb",
        "outputId": "41122687-f87b-4200-b623-2750de26daa1"
      },
      "source": [
        "print(\"Mediana:\")\n",
        "df.aeronave_tipo.value_counts().median()"
      ],
      "execution_count": null,
      "outputs": [
        {
          "output_type": "stream",
          "name": "stdout",
          "text": [
            "Mediana:\n"
          ]
        },
        {
          "output_type": "execute_result",
          "data": {
            "text/plain": [
              "13.5"
            ]
          },
          "metadata": {},
          "execution_count": 55
        }
      ]
    },
    {
      "cell_type": "code",
      "metadata": {
        "colab": {
          "base_uri": "https://localhost:8080/"
        },
        "id": "VCMlO3TtZq-T",
        "outputId": "1410add4-7418-40cb-b945-45d9674d1664"
      },
      "source": [
        "print(\"Desvio padrão:\")\n",
        "df.aeronave_tipo.value_counts().std()"
      ],
      "execution_count": null,
      "outputs": [
        {
          "output_type": "stream",
          "name": "stdout",
          "text": [
            "Desvio padrão:\n"
          ]
        },
        {
          "output_type": "execute_result",
          "data": {
            "text/plain": [
              "1310.8169462845174"
            ]
          },
          "metadata": {},
          "execution_count": 56
        }
      ]
    },
    {
      "cell_type": "markdown",
      "metadata": {
        "id": "ORgEM75-Zs1e"
      },
      "source": [
        "VARIÁVEL \"TIPO MOTOR\""
      ]
    },
    {
      "cell_type": "code",
      "metadata": {
        "colab": {
          "base_uri": "https://localhost:8080/",
          "height": 358
        },
        "id": "608Z-ydZGmz9",
        "outputId": "6ae3fb06-3b93-4b5d-ad9d-3f39a4f7ea66"
      },
      "source": [
        "df.motor_tipo.value_counts().plot(kind='bar')\n",
        "plt.ylabel('QUANTIDADE DE REGISTROS')"
      ],
      "execution_count": null,
      "outputs": [
        {
          "output_type": "execute_result",
          "data": {
            "text/plain": [
              "Text(0, 0.5, 'QUANTIDADE DE REGISTROS')"
            ]
          },
          "metadata": {},
          "execution_count": 21
        },
        {
          "output_type": "display_data",
          "data": {
            "image/png": "[encoded data removed]",
            "text/plain": [
              "<Figure size 432x288 with 1 Axes>"
            ]
          },
          "metadata": {
            "needs_background": "light"
          }
        }
      ]
    },
    {
      "cell_type": "code",
      "metadata": {
        "colab": {
          "base_uri": "https://localhost:8080/"
        },
        "id": "5AZ2e_HbZxir",
        "outputId": "2eb19b22-8de5-4750-cf18-b472396532d2"
      },
      "source": [
        "print(\"Média:\")\n",
        "df.motor_tipo.value_counts().mean()"
      ],
      "execution_count": null,
      "outputs": [
        {
          "output_type": "stream",
          "name": "stdout",
          "text": [
            "Média:\n"
          ]
        },
        {
          "output_type": "execute_result",
          "data": {
            "text/plain": [
              "873.6666666666666"
            ]
          },
          "metadata": {},
          "execution_count": 57
        }
      ]
    },
    {
      "cell_type": "code",
      "metadata": {
        "colab": {
          "base_uri": "https://localhost:8080/"
        },
        "id": "GTX-T2PRaAlF",
        "outputId": "660984f9-4834-4c3d-e50c-9a235e1a836b"
      },
      "source": [
        "print(\"Moda:\")\n",
        "df.motor_tipo.value_counts().mode()"
      ],
      "execution_count": null,
      "outputs": [
        {
          "output_type": "stream",
          "name": "stdout",
          "text": [
            "Moda:\n"
          ]
        },
        {
          "output_type": "execute_result",
          "data": {
            "text/plain": [
              "0      15\n",
              "1     132\n",
              "2     501\n",
              "3     625\n",
              "4    1017\n",
              "5    2952\n",
              "dtype: int64"
            ]
          },
          "metadata": {},
          "execution_count": 58
        }
      ]
    },
    {
      "cell_type": "code",
      "metadata": {
        "colab": {
          "base_uri": "https://localhost:8080/"
        },
        "id": "x6Jqyr5oaB_w",
        "outputId": "8092af52-edb9-4af5-a549-2f8313b7fe8a"
      },
      "source": [
        "print(\"Mediana:\")\n",
        "df.motor_tipo.value_counts().median()"
      ],
      "execution_count": null,
      "outputs": [
        {
          "output_type": "stream",
          "name": "stdout",
          "text": [
            "Mediana:\n"
          ]
        },
        {
          "output_type": "execute_result",
          "data": {
            "text/plain": [
              "563.0"
            ]
          },
          "metadata": {},
          "execution_count": 59
        }
      ]
    },
    {
      "cell_type": "code",
      "metadata": {
        "colab": {
          "base_uri": "https://localhost:8080/"
        },
        "id": "Gg27cDz3aDVC",
        "outputId": "5e384fcc-488e-4ecf-e428-ef3fb57bab61"
      },
      "source": [
        "print(\"Desvio padrão:\")\n",
        "df.motor_tipo.value_counts().std()"
      ],
      "execution_count": null,
      "outputs": [
        {
          "output_type": "stream",
          "name": "stdout",
          "text": [
            "Desvio padrão:\n"
          ]
        },
        {
          "output_type": "execute_result",
          "data": {
            "text/plain": [
              "1079.6395077370346"
            ]
          },
          "metadata": {},
          "execution_count": 60
        }
      ]
    },
    {
      "cell_type": "markdown",
      "metadata": {
        "id": "xVxRCvudaEPO"
      },
      "source": [
        "VARIÁVEL \"QUANTIDADE MOTOR AERONAVE\""
      ]
    },
    {
      "cell_type": "code",
      "metadata": {
        "colab": {
          "base_uri": "https://localhost:8080/",
          "height": 358
        },
        "id": "B2oAGGVQGsHO",
        "outputId": "48f7cc7c-f51f-4caa-dba9-ccc519a3ebd0"
      },
      "source": [
        "df.aeronave_motor_quantidade.value_counts().plot(kind='bar')\n",
        "plt.ylabel('QUANTIDADE DE REGISTROS')"
      ],
      "execution_count": null,
      "outputs": [
        {
          "output_type": "execute_result",
          "data": {
            "text/plain": [
              "Text(0, 0.5, 'QUANTIDADE DE REGISTROS')"
            ]
          },
          "metadata": {},
          "execution_count": 22
        },
        {
          "output_type": "display_data",
          "data": {
            "image/png": "[encoded data removed]",
            "text/plain": [
              "<Figure size 432x288 with 1 Axes>"
            ]
          },
          "metadata": {
            "needs_background": "light"
          }
        }
      ]
    },
    {
      "cell_type": "code",
      "metadata": {
        "colab": {
          "base_uri": "https://localhost:8080/"
        },
        "id": "WYLXLCixaXXf",
        "outputId": "c90fa0b9-93e4-4ab6-ee0e-27ac57371431"
      },
      "source": [
        "print(\"Média:\")\n",
        "df.aeronave_motor_quantidade.value_counts().mean()"
      ],
      "execution_count": null,
      "outputs": [
        {
          "output_type": "stream",
          "name": "stdout",
          "text": [
            "Média:\n"
          ]
        },
        {
          "output_type": "execute_result",
          "data": {
            "text/plain": [
              "873.6666666666666"
            ]
          },
          "metadata": {},
          "execution_count": 61
        }
      ]
    },
    {
      "cell_type": "code",
      "metadata": {
        "colab": {
          "base_uri": "https://localhost:8080/"
        },
        "id": "EZ6Rso23ayEo",
        "outputId": "f87c6f08-89b4-4366-8125-701101d98b0b"
      },
      "source": [
        "print(\"Moda:\")\n",
        "df.aeronave_motor_quantidade.value_counts().mode()"
      ],
      "execution_count": null,
      "outputs": [
        {
          "output_type": "stream",
          "name": "stdout",
          "text": [
            "Moda:\n"
          ]
        },
        {
          "output_type": "execute_result",
          "data": {
            "text/plain": [
              "0       6\n",
              "1      54\n",
              "2      69\n",
              "3     100\n",
              "4    2365\n",
              "5    2648\n",
              "dtype: int64"
            ]
          },
          "metadata": {},
          "execution_count": 62
        }
      ]
    },
    {
      "cell_type": "code",
      "metadata": {
        "colab": {
          "base_uri": "https://localhost:8080/"
        },
        "id": "31do6uT0a0TY",
        "outputId": "b06e5b25-5d4e-4304-b4b5-024c55262a55"
      },
      "source": [
        "print(\"Mediana:\")\n",
        "df.aeronave_motor_quantidade.value_counts().median()"
      ],
      "execution_count": null,
      "outputs": [
        {
          "output_type": "stream",
          "name": "stdout",
          "text": [
            "Mediana:\n"
          ]
        },
        {
          "output_type": "execute_result",
          "data": {
            "text/plain": [
              "84.5"
            ]
          },
          "metadata": {},
          "execution_count": 64
        }
      ]
    },
    {
      "cell_type": "code",
      "metadata": {
        "colab": {
          "base_uri": "https://localhost:8080/"
        },
        "id": "d80Zjkoha2Mm",
        "outputId": "6b986611-7593-4b4d-d2df-0a9326f64334"
      },
      "source": [
        "print(\"Desvio padrão:\")\n",
        "df.aeronave_motor_quantidade.value_counts().std()"
      ],
      "execution_count": null,
      "outputs": [
        {
          "output_type": "stream",
          "name": "stdout",
          "text": [
            "Desvio padrão:\n"
          ]
        },
        {
          "output_type": "execute_result",
          "data": {
            "text/plain": [
              "1268.312369515754"
            ]
          },
          "metadata": {},
          "execution_count": 63
        }
      ]
    },
    {
      "cell_type": "markdown",
      "metadata": {
        "id": "4w8L1iF0a3OR"
      },
      "source": [
        "VARIÁVEL \"PAÍS FABRICANTE\""
      ]
    },
    {
      "cell_type": "code",
      "metadata": {
        "colab": {
          "base_uri": "https://localhost:8080/",
          "height": 370
        },
        "id": "DH1gauMwGx_V",
        "outputId": "f16303c4-9a3c-420e-ccb4-a0cb9179710b"
      },
      "source": [
        "df.aeronave_pais_fabricante.value_counts().plot(kind='bar')\n",
        "plt.ylabel('QUANTIDADE DE REGISTROS')"
      ],
      "execution_count": null,
      "outputs": [
        {
          "output_type": "execute_result",
          "data": {
            "text/plain": [
              "Text(0, 0.5, 'QUANTIDADE DE REGISTROS')"
            ]
          },
          "metadata": {},
          "execution_count": 23
        },
        {
          "output_type": "display_data",
          "data": {
            "image/png": "[encoded data removed]",
            "text/plain": [
              "<Figure size 432x288 with 1 Axes>"
            ]
          },
          "metadata": {
            "needs_background": "light"
          }
        }
      ]
    },
    {
      "cell_type": "code",
      "metadata": {
        "colab": {
          "base_uri": "https://localhost:8080/"
        },
        "id": "XyesAEZ7a_Y4",
        "outputId": "dcb15dcd-5e2f-44f5-e61e-fe38b39715e8"
      },
      "source": [
        "print(\"Média:\")\n",
        "df.aeronave_pais_fabricante.value_counts().mean()"
      ],
      "execution_count": null,
      "outputs": [
        {
          "output_type": "stream",
          "name": "stdout",
          "text": [
            "Média:\n"
          ]
        },
        {
          "output_type": "execute_result",
          "data": {
            "text/plain": [
              "262.1"
            ]
          },
          "metadata": {},
          "execution_count": 68
        }
      ]
    },
    {
      "cell_type": "code",
      "metadata": {
        "colab": {
          "base_uri": "https://localhost:8080/"
        },
        "id": "Rdu3indBbNOA",
        "outputId": "28654dee-23c6-411e-ad67-853e6c379f07"
      },
      "source": [
        "print(\"Moda:\")\n",
        "df.aeronave_pais_fabricante.value_counts().mode()"
      ],
      "execution_count": null,
      "outputs": [
        {
          "output_type": "stream",
          "name": "stdout",
          "text": [
            "Moda:\n"
          ]
        },
        {
          "output_type": "execute_result",
          "data": {
            "text/plain": [
              "0    1\n",
              "dtype: int64"
            ]
          },
          "metadata": {},
          "execution_count": 67
        }
      ]
    },
    {
      "cell_type": "code",
      "metadata": {
        "colab": {
          "base_uri": "https://localhost:8080/"
        },
        "id": "rDNx768qbO6F",
        "outputId": "147d1766-96d4-4e02-c331-894f4d65ad3b"
      },
      "source": [
        "print(\"Mediana:\")\n",
        "df.aeronave_pais_fabricante.value_counts().median()"
      ],
      "execution_count": null,
      "outputs": [
        {
          "output_type": "stream",
          "name": "stdout",
          "text": [
            "Mediana:\n"
          ]
        },
        {
          "output_type": "execute_result",
          "data": {
            "text/plain": [
              "2.0"
            ]
          },
          "metadata": {},
          "execution_count": 66
        }
      ]
    },
    {
      "cell_type": "code",
      "metadata": {
        "colab": {
          "base_uri": "https://localhost:8080/"
        },
        "id": "ypwv7HDVbQP0",
        "outputId": "b661a90f-1f1a-4e6d-b66a-2c1c7aea56d1"
      },
      "source": [
        "print(\"Desvio padrão:\")\n",
        "df.aeronave_pais_fabricante.value_counts().std()"
      ],
      "execution_count": null,
      "outputs": [
        {
          "output_type": "stream",
          "name": "stdout",
          "text": [
            "Desvio padrão:\n"
          ]
        },
        {
          "output_type": "execute_result",
          "data": {
            "text/plain": [
              "1147.9520850077693"
            ]
          },
          "metadata": {},
          "execution_count": 65
        }
      ]
    },
    {
      "cell_type": "markdown",
      "metadata": {
        "id": "E7r1oPbQbQ7U"
      },
      "source": [
        "VARIÁVEL \"NÍVEL DANO\""
      ]
    },
    {
      "cell_type": "code",
      "metadata": {
        "colab": {
          "base_uri": "https://localhost:8080/",
          "height": 358
        },
        "id": "vY9ROUCyG4OO",
        "outputId": "add8971b-b489-4d46-f534-144fb525cca4"
      },
      "source": [
        "df.aeronave_nivel_dano.value_counts().plot(kind='bar')\n",
        "plt.ylabel('QUANTIDADE DE REGISTROS')"
      ],
      "execution_count": null,
      "outputs": [
        {
          "output_type": "execute_result",
          "data": {
            "text/plain": [
              "Text(0, 0.5, 'QUANTIDADE DE REGISTROS')"
            ]
          },
          "metadata": {},
          "execution_count": 24
        },
        {
          "output_type": "display_data",
          "data": {
            "image/png": "[encoded data removed]",
            "text/plain": [
              "<Figure size 432x288 with 1 Axes>"
            ]
          },
          "metadata": {
            "needs_background": "light"
          }
        }
      ]
    },
    {
      "cell_type": "code",
      "metadata": {
        "colab": {
          "base_uri": "https://localhost:8080/"
        },
        "id": "Yaq3ljlmbcmh",
        "outputId": "b4822a39-898e-4f1e-add5-8bda8ebbf0ca"
      },
      "source": [
        "print(\"Média:\")\n",
        "df.aeronave_nivel_dano.value_counts().mean()"
      ],
      "execution_count": null,
      "outputs": [
        {
          "output_type": "stream",
          "name": "stdout",
          "text": [
            "Média:\n"
          ]
        },
        {
          "output_type": "execute_result",
          "data": {
            "text/plain": [
              "1048.4"
            ]
          },
          "metadata": {},
          "execution_count": 72
        }
      ]
    },
    {
      "cell_type": "code",
      "metadata": {
        "colab": {
          "base_uri": "https://localhost:8080/"
        },
        "id": "9lQPjEcqbq-N",
        "outputId": "2ebc99f7-2382-40f5-c64a-fff01186bb48"
      },
      "source": [
        "print(\"Moda:\")\n",
        "df.aeronave_nivel_dano.value_counts().mode()"
      ],
      "execution_count": null,
      "outputs": [
        {
          "output_type": "stream",
          "name": "stdout",
          "text": [
            "Moda:\n"
          ]
        },
        {
          "output_type": "execute_result",
          "data": {
            "text/plain": [
              "0      42\n",
              "1     329\n",
              "2    1515\n",
              "3    1529\n",
              "4    1827\n",
              "dtype: int64"
            ]
          },
          "metadata": {},
          "execution_count": 71
        }
      ]
    },
    {
      "cell_type": "code",
      "metadata": {
        "colab": {
          "base_uri": "https://localhost:8080/"
        },
        "id": "bUSBvcx4bsV7",
        "outputId": "cca6f690-9e6f-4925-be59-168a83d8b65c"
      },
      "source": [
        "print(\"Mediana:\")\n",
        "df.aeronave_nivel_dano.value_counts().median()"
      ],
      "execution_count": null,
      "outputs": [
        {
          "output_type": "stream",
          "name": "stdout",
          "text": [
            "Mediana:\n"
          ]
        },
        {
          "output_type": "execute_result",
          "data": {
            "text/plain": [
              "1515.0"
            ]
          },
          "metadata": {},
          "execution_count": 70
        }
      ]
    },
    {
      "cell_type": "code",
      "metadata": {
        "colab": {
          "base_uri": "https://localhost:8080/"
        },
        "id": "3Wbfz9oRbtmi",
        "outputId": "678c5e9c-bfe1-48aa-e3c3-327750e62d25"
      },
      "source": [
        "print(\"Desvio padrão:\")\n",
        "df.aeronave_nivel_dano.value_counts().std()"
      ],
      "execution_count": null,
      "outputs": [
        {
          "output_type": "stream",
          "name": "stdout",
          "text": [
            "Desvio padrão:\n"
          ]
        },
        {
          "output_type": "execute_result",
          "data": {
            "text/plain": [
              "803.9414157760502"
            ]
          },
          "metadata": {},
          "execution_count": 69
        }
      ]
    },
    {
      "cell_type": "markdown",
      "metadata": {
        "id": "PL5WrON5ZbYj"
      },
      "source": [
        "----------------------------------------------------------------------------------------------------------------------------------------------"
      ]
    },
    {
      "cell_type": "markdown",
      "metadata": {
        "id": "50VcmYXBgqs9"
      },
      "source": [
        "\n",
        "\n",
        "# > **Comparativo de acidente**\n",
        "\n",
        "\n",
        "\n",
        "*   Tipo \n",
        "*   Descrição\n",
        "*   Cidade\n",
        "*   Estado\n",
        "*   Data\n",
        "*   Ano   \n",
        "*   Hora\n",
        "*   Tipo de Aeronave\n",
        "*   Tipo de Motor\n",
        "*   Quantidade de Motor\n",
        "*   Quantidade de Assentos \n",
        "*   Modo Operante\n",
        "*   Ano de Fabricação\n",
        "*   Fabricante\n",
        "*   Nível de Dano \n",
        "\n",
        "\n",
        "\n",
        "\n",
        "\n",
        "\n",
        "\n",
        "\n",
        "\n",
        "\n",
        "\n",
        "\n",
        "\n",
        "\n",
        "\n"
      ]
    },
    {
      "cell_type": "code",
      "metadata": {
        "colab": {
          "base_uri": "https://localhost:8080/",
          "height": 753
        },
        "id": "CONaHFscZaBe",
        "outputId": "9989dd41-7e19-46d5-8b7e-e241f0d1ce3b"
      },
      "source": [
        "#Correlação de variaveis para tomada de descisão\n",
        "\n",
        "colunasSelecionadas = [\n",
        "                       'tipo','descricao','cidade','estado','data','ano','hora',\n",
        "                       'aeronave_tipo','aeronave_fabricante','motor_tipo',\n",
        "                       'aeronave_motor_quantidade','aeronave_assentos',\n",
        "                       'aeronave_ano_fabricacao','aeronave_fase_operacao',\n",
        "                       'aeronave_nivel_dano']\n",
        "\n",
        "dadosCenipaSelecionadosAcidentes = dadosCenipa.filter(items = colunasSelecionadas)\n",
        "dadosCenipaSelecionadosAcidentes"
      ],
      "execution_count": null,
      "outputs": [
        {
          "output_type": "execute_result",
          "data": {
            "text/html": [
              "<div>\n",
              "<style scoped>\n",
              "    .dataframe tbody tr th:only-of-type {\n",
              "        vertical-align: middle;\n",
              "    }\n",
              "\n",
              "    .dataframe tbody tr th {\n",
              "        vertical-align: top;\n",
              "    }\n",
              "\n",
              "    .dataframe thead th {\n",
              "        text-align: right;\n",
              "    }\n",
              "</style>\n",
              "<table border=\"1\" class=\"dataframe\">\n",
              "  <thead>\n",
              "    <tr style=\"text-align: right;\">\n",
              "      <th></th>\n",
              "      <th>tipo</th>\n",
              "      <th>descricao</th>\n",
              "      <th>cidade</th>\n",
              "      <th>estado</th>\n",
              "      <th>data</th>\n",
              "      <th>ano</th>\n",
              "      <th>hora</th>\n",
              "      <th>aeronave_tipo</th>\n",
              "      <th>aeronave_fabricante</th>\n",
              "      <th>motor_tipo</th>\n",
              "      <th>aeronave_motor_quantidade</th>\n",
              "      <th>aeronave_assentos</th>\n",
              "      <th>aeronave_ano_fabricacao</th>\n",
              "      <th>aeronave_fase_operacao</th>\n",
              "      <th>aeronave_nivel_dano</th>\n",
              "    </tr>\n",
              "    <tr>\n",
              "      <th>codigo</th>\n",
              "      <th></th>\n",
              "      <th></th>\n",
              "      <th></th>\n",
              "      <th></th>\n",
              "      <th></th>\n",
              "      <th></th>\n",
              "      <th></th>\n",
              "      <th></th>\n",
              "      <th></th>\n",
              "      <th></th>\n",
              "      <th></th>\n",
              "      <th></th>\n",
              "      <th></th>\n",
              "      <th></th>\n",
              "      <th></th>\n",
              "    </tr>\n",
              "  </thead>\n",
              "  <tbody>\n",
              "    <tr>\n",
              "      <th>40107</th>\n",
              "      <td>ACIDENTE</td>\n",
              "      <td>COLISÃO COM OBSTÁCULO DURANTE A DECOLAGEM E POUSO</td>\n",
              "      <td>GURUPÁ</td>\n",
              "      <td>PA</td>\n",
              "      <td>12/01/2010</td>\n",
              "      <td>2010</td>\n",
              "      <td>14:30:00</td>\n",
              "      <td>AVIÃO</td>\n",
              "      <td>NEIVA INDUSTRIA AERONAUTICA</td>\n",
              "      <td>PISTÃO</td>\n",
              "      <td>MONOMOTOR</td>\n",
              "      <td>7</td>\n",
              "      <td>1977</td>\n",
              "      <td>POUSO</td>\n",
              "      <td>LEVE</td>\n",
              "    </tr>\n",
              "    <tr>\n",
              "      <th>40147</th>\n",
              "      <td>ACIDENTE</td>\n",
              "      <td>FALHA OU MAU FUNCIONAMENTO DE SISTEMA / COMPON...</td>\n",
              "      <td>UNIÃO DA VITÓRIA</td>\n",
              "      <td>PR</td>\n",
              "      <td>08/04/2010</td>\n",
              "      <td>2010</td>\n",
              "      <td>14:20:00</td>\n",
              "      <td>AVIÃO</td>\n",
              "      <td>PIPER AIRCRAFT</td>\n",
              "      <td>PISTÃO</td>\n",
              "      <td>BIMOTOR</td>\n",
              "      <td>6</td>\n",
              "      <td>1997</td>\n",
              "      <td>POUSO</td>\n",
              "      <td>SUBSTANCIAL</td>\n",
              "    </tr>\n",
              "    <tr>\n",
              "      <th>40148</th>\n",
              "      <td>ACIDENTE</td>\n",
              "      <td>PANE SECA</td>\n",
              "      <td>CAMPO GRANDE</td>\n",
              "      <td>MS</td>\n",
              "      <td>19/03/2010</td>\n",
              "      <td>2010</td>\n",
              "      <td>19:30:00</td>\n",
              "      <td>AVIÃO</td>\n",
              "      <td>CESSNA AIRCRAFT</td>\n",
              "      <td>PISTÃO</td>\n",
              "      <td>MONOMOTOR</td>\n",
              "      <td>6</td>\n",
              "      <td>1962</td>\n",
              "      <td>APROXIMAÇÃO FINAL</td>\n",
              "      <td>SUBSTANCIAL</td>\n",
              "    </tr>\n",
              "    <tr>\n",
              "      <th>40149</th>\n",
              "      <td>ACIDENTE</td>\n",
              "      <td>FALHA DO MOTOR EM VOO</td>\n",
              "      <td>LUZIÂNIA</td>\n",
              "      <td>GO</td>\n",
              "      <td>21/03/2010</td>\n",
              "      <td>2010</td>\n",
              "      <td>20:45:00</td>\n",
              "      <td>AVIÃO</td>\n",
              "      <td>XAVANTE</td>\n",
              "      <td>PISTÃO</td>\n",
              "      <td>MONOMOTOR</td>\n",
              "      <td>2</td>\n",
              "      <td>1974</td>\n",
              "      <td>DECOLAGEM</td>\n",
              "      <td>DESTRUÍDA</td>\n",
              "    </tr>\n",
              "    <tr>\n",
              "      <th>40150</th>\n",
              "      <td>INCIDENTE GRAVE</td>\n",
              "      <td>COM TREM DE POUSO</td>\n",
              "      <td>SANTA MARIA</td>\n",
              "      <td>RS</td>\n",
              "      <td>10/03/2010</td>\n",
              "      <td>2010</td>\n",
              "      <td>17:20:00</td>\n",
              "      <td>AVIÃO</td>\n",
              "      <td>BEECH AIRCRAFT</td>\n",
              "      <td>PISTÃO</td>\n",
              "      <td>MONOMOTOR</td>\n",
              "      <td>6</td>\n",
              "      <td>1974</td>\n",
              "      <td>POUSO</td>\n",
              "      <td>LEVE</td>\n",
              "    </tr>\n",
              "    <tr>\n",
              "      <th>...</th>\n",
              "      <td>...</td>\n",
              "      <td>...</td>\n",
              "      <td>...</td>\n",
              "      <td>...</td>\n",
              "      <td>...</td>\n",
              "      <td>...</td>\n",
              "      <td>...</td>\n",
              "      <td>...</td>\n",
              "      <td>...</td>\n",
              "      <td>...</td>\n",
              "      <td>...</td>\n",
              "      <td>...</td>\n",
              "      <td>...</td>\n",
              "      <td>...</td>\n",
              "      <td>...</td>\n",
              "    </tr>\n",
              "    <tr>\n",
              "      <th>79117</th>\n",
              "      <td>ACIDENTE</td>\n",
              "      <td>INDETERMINADO</td>\n",
              "      <td>ASSIS BRASIL</td>\n",
              "      <td>AC</td>\n",
              "      <td>23/10/2019</td>\n",
              "      <td>2019</td>\n",
              "      <td>15:00:00</td>\n",
              "      <td>INDETERMINADO</td>\n",
              "      <td>FABRICANTE DESCONHECIDO</td>\n",
              "      <td>INDETERMINADO</td>\n",
              "      <td>INDETERMINADO</td>\n",
              "      <td>0</td>\n",
              "      <td>0</td>\n",
              "      <td>INDETERMINADO</td>\n",
              "      <td>DESTRUÍDA</td>\n",
              "    </tr>\n",
              "    <tr>\n",
              "      <th>79119</th>\n",
              "      <td>ACIDENTE</td>\n",
              "      <td>INDETERMINADO</td>\n",
              "      <td>SÃO JOSÉ DO RIO CLARO</td>\n",
              "      <td>MT</td>\n",
              "      <td>11/10/2019</td>\n",
              "      <td>2019</td>\n",
              "      <td>10:00:00</td>\n",
              "      <td>INDETERMINADO</td>\n",
              "      <td>FABRICANTE DESCONHECIDO</td>\n",
              "      <td>INDETERMINADO</td>\n",
              "      <td>INDETERMINADO</td>\n",
              "      <td>0</td>\n",
              "      <td>0</td>\n",
              "      <td>INDETERMINADO</td>\n",
              "      <td>DESTRUÍDA</td>\n",
              "    </tr>\n",
              "    <tr>\n",
              "      <th>79123</th>\n",
              "      <td>ACIDENTE</td>\n",
              "      <td>INDETERMINADO</td>\n",
              "      <td>ANTONINA</td>\n",
              "      <td>PR</td>\n",
              "      <td>21/09/2019</td>\n",
              "      <td>2019</td>\n",
              "      <td>18:30:00</td>\n",
              "      <td>TRIKE</td>\n",
              "      <td>INDETERMINADO</td>\n",
              "      <td>INDETERMINADO</td>\n",
              "      <td>SEM TRAÇÃO</td>\n",
              "      <td>0</td>\n",
              "      <td>0</td>\n",
              "      <td>DECOLAGEM</td>\n",
              "      <td>SUBSTANCIAL</td>\n",
              "    </tr>\n",
              "    <tr>\n",
              "      <th>79203</th>\n",
              "      <td>INCIDENTE</td>\n",
              "      <td>FALHA OU MAU FUNCIONAMENTO DE SISTEMA / COMPON...</td>\n",
              "      <td>FLORIANÓPOLIS</td>\n",
              "      <td>SC</td>\n",
              "      <td>20/12/2019</td>\n",
              "      <td>2019</td>\n",
              "      <td>16:37:00</td>\n",
              "      <td>AVIÃO</td>\n",
              "      <td>CESSNA AIRCRAFT</td>\n",
              "      <td>PISTÃO</td>\n",
              "      <td>MONOMOTOR</td>\n",
              "      <td>2</td>\n",
              "      <td>1980</td>\n",
              "      <td>CORRIDA APÓS POUSO</td>\n",
              "      <td>LEVE</td>\n",
              "    </tr>\n",
              "    <tr>\n",
              "      <th>79227</th>\n",
              "      <td>ACIDENTE</td>\n",
              "      <td>OUTROS</td>\n",
              "      <td>NOVO PROGRESSO</td>\n",
              "      <td>PA</td>\n",
              "      <td>20/01/2017</td>\n",
              "      <td>2017</td>\n",
              "      <td>16:24:00</td>\n",
              "      <td>AVIÃO</td>\n",
              "      <td>PIPER AIRCRAFT</td>\n",
              "      <td>PISTÃO</td>\n",
              "      <td>BIMOTOR</td>\n",
              "      <td>8</td>\n",
              "      <td>1974</td>\n",
              "      <td>POUSO</td>\n",
              "      <td>SUBSTANCIAL</td>\n",
              "    </tr>\n",
              "  </tbody>\n",
              "</table>\n",
              "<p>5242 rows × 15 columns</p>\n",
              "</div>"
            ],
            "text/plain": [
              "                   tipo  ... aeronave_nivel_dano\n",
              "codigo                   ...                    \n",
              "40107          ACIDENTE  ...                LEVE\n",
              "40147          ACIDENTE  ...         SUBSTANCIAL\n",
              "40148          ACIDENTE  ...         SUBSTANCIAL\n",
              "40149          ACIDENTE  ...           DESTRUÍDA\n",
              "40150   INCIDENTE GRAVE  ...                LEVE\n",
              "...                 ...  ...                 ...\n",
              "79117          ACIDENTE  ...           DESTRUÍDA\n",
              "79119          ACIDENTE  ...           DESTRUÍDA\n",
              "79123          ACIDENTE  ...         SUBSTANCIAL\n",
              "79203         INCIDENTE  ...                LEVE\n",
              "79227          ACIDENTE  ...         SUBSTANCIAL\n",
              "\n",
              "[5242 rows x 15 columns]"
            ]
          },
          "metadata": {},
          "execution_count": 4
        }
      ]
    },
    {
      "cell_type": "markdown",
      "metadata": {
        "id": "57tZSBzwzi3i"
      },
      "source": [
        ""
      ]
    },
    {
      "cell_type": "code",
      "metadata": {
        "colab": {
          "base_uri": "https://localhost:8080/"
        },
        "id": "29p_oUKWkuWe",
        "outputId": "e7cce729-953a-4549-c498-57117236dab8"
      },
      "source": [
        "#Correlação de variaveis do total de Acidentes, Incidentes e Incidentes Graves entre os anos 2010 à 2019 \n",
        "\n",
        "coluna_tipo = dadosCenipaSelecionadosAcidentes ['tipo']\n",
        "\n",
        "coluna_tipo.value_counts().sort_index()                    \n",
        " "
      ],
      "execution_count": null,
      "outputs": [
        {
          "output_type": "execute_result",
          "data": {
            "text/plain": [
              "ACIDENTE           1694\n",
              "INCIDENTE          2887\n",
              "INCIDENTE GRAVE     661\n",
              "Name: tipo, dtype: int64"
            ]
          },
          "metadata": {},
          "execution_count": 5
        }
      ]
    },
    {
      "cell_type": "markdown",
      "metadata": {
        "id": "OOVsAbe10CPE"
      },
      "source": [
        "**Correlação de Acidentes entre 2010 à 2013**\n",
        "\n",
        "\n",
        "\n"
      ]
    },
    {
      "cell_type": "code",
      "metadata": {
        "colab": {
          "base_uri": "https://localhost:8080/"
        },
        "id": "oqMr4spaxGrY",
        "outputId": "69ddab12-f2ab-408b-a172-22823af5ab80"
      },
      "source": [
        "acidente_2010_2013 = dadosCenipaSelecionadosAcidentes[(dadosCenipaSelecionadosAcidentes['ano'] >= 2010) &(dadosCenipaSelecionadosAcidentes['ano'] <=2013) &\n",
        "                                 (dadosCenipaSelecionadosAcidentes['tipo'] == 'ACIDENTE')]\n",
        "acidente_2010_2013 = acidente_2010_2013['tipo']\n",
        "\n",
        "acidente_2010_2013 = len(acidente_2010_2013)\n",
        "\n",
        "acidente_2010_2013\n"
      ],
      "execution_count": null,
      "outputs": [
        {
          "output_type": "execute_result",
          "data": {
            "text/plain": [
              "720"
            ]
          },
          "metadata": {},
          "execution_count": 7
        }
      ]
    },
    {
      "cell_type": "markdown",
      "metadata": {
        "id": "m5RCI1Ok3Veq"
      },
      "source": [
        "**Correlação de Incidentes entre 2010 à 2013**"
      ]
    },
    {
      "cell_type": "code",
      "metadata": {
        "colab": {
          "base_uri": "https://localhost:8080/"
        },
        "id": "vUK3oZmt2du3",
        "outputId": "427487f4-d4a6-4af8-d60a-c713e99c7817"
      },
      "source": [
        "incidente_2010_2013 = dadosCenipaSelecionadosAcidentes[(dadosCenipaSelecionadosAcidentes['ano'] >= 2010) &(dadosCenipaSelecionadosAcidentes['ano'] <=2013) &\n",
        "                                 (dadosCenipaSelecionadosAcidentes['tipo'] == 'INCIDENTE')]\n",
        "incidente_2010_2013 = incidente_2010_2013['tipo']\n",
        "\n",
        "incidente_2010_2013 = len(incidente_2010_2013)\n",
        "\n",
        "incidente_2010_2013\n"
      ],
      "execution_count": null,
      "outputs": [
        {
          "output_type": "execute_result",
          "data": {
            "text/plain": [
              "1435"
            ]
          },
          "metadata": {},
          "execution_count": 8
        }
      ]
    },
    {
      "cell_type": "markdown",
      "metadata": {
        "id": "-_Rh34Yw3aZL"
      },
      "source": [
        "**Correlação de Incidentes Graves entre 2010 à 2013**"
      ]
    },
    {
      "cell_type": "code",
      "metadata": {
        "colab": {
          "base_uri": "https://localhost:8080/"
        },
        "id": "adzaKvuh2qjx",
        "outputId": "318fed78-366e-4856-9716-e29a3a9f4c05"
      },
      "source": [
        "incidenteGrave_2010_2013 = dadosCenipaSelecionadosAcidentes[(dadosCenipaSelecionadosAcidentes['ano'] >= 2010) &(dadosCenipaSelecionadosAcidentes['ano'] <=2013) &\n",
        "                                 (dadosCenipaSelecionadosAcidentes['tipo'] == 'INCIDENTE GRAVE')]\n",
        "incidenteGrave_2010_2013 = incidenteGrave_2010_2013['tipo']\n",
        "\n",
        "incidenteGrave_2010_2013 = len(incidenteGrave_2010_2013)\n",
        "\n",
        "incidenteGrave_2010_2013"
      ],
      "execution_count": null,
      "outputs": [
        {
          "output_type": "execute_result",
          "data": {
            "text/plain": [
              "273"
            ]
          },
          "metadata": {},
          "execution_count": 9
        }
      ]
    },
    {
      "cell_type": "markdown",
      "metadata": {
        "id": "byHf53aRtU6X"
      },
      "source": [
        "**Correlação de Acidentes entre 2014 à 2016**"
      ]
    },
    {
      "cell_type": "code",
      "metadata": {
        "colab": {
          "base_uri": "https://localhost:8080/"
        },
        "id": "hiFCUABJuLZg",
        "outputId": "a359bd2c-d806-455e-c8ba-a366ece81597"
      },
      "source": [
        "acidente_2014_2016 = dadosCenipaSelecionadosAcidentes[(dadosCenipaSelecionadosAcidentes['ano'] >= 2014) &(dadosCenipaSelecionadosAcidentes['ano'] <=2016) &\n",
        "                                 (dadosCenipaSelecionadosAcidentes['tipo'] == 'ACIDENTE')]\n",
        "acidente_2014_2016 = acidente_2014_2016['tipo']\n",
        "\n",
        "acidente_2014_2016 = len(acidente_2014_2016)\n",
        "\n",
        "acidente_2014_2016"
      ],
      "execution_count": null,
      "outputs": [
        {
          "output_type": "execute_result",
          "data": {
            "text/plain": [
              "510"
            ]
          },
          "metadata": {},
          "execution_count": 99
        }
      ]
    },
    {
      "cell_type": "markdown",
      "metadata": {
        "id": "I7bTcpFjtVEK"
      },
      "source": [
        "**Correlação de Incidentes entre 2014 à 2016**"
      ]
    },
    {
      "cell_type": "code",
      "metadata": {
        "colab": {
          "base_uri": "https://localhost:8080/"
        },
        "id": "dVJd4zNnuWF-",
        "outputId": "437ba997-16a8-4224-8bca-f8d6273f2853"
      },
      "source": [
        "incidente_2014_2016 = dadosCenipaSelecionadosAcidentes[(dadosCenipaSelecionadosAcidentes['ano'] >= 2014) &(dadosCenipaSelecionadosAcidentes['ano'] <=2016) &\n",
        "                                 (dadosCenipaSelecionadosAcidentes['tipo'] == 'INCIDENTE')]\n",
        "incidente_2014_2016 = incidente_2014_2016['tipo']\n",
        "\n",
        "incidente_2014_2016 = len(incidente_2014_2016)\n",
        "\n",
        "incidente_2014_2016"
      ],
      "execution_count": null,
      "outputs": [
        {
          "output_type": "execute_result",
          "data": {
            "text/plain": [
              "756"
            ]
          },
          "metadata": {},
          "execution_count": 93
        }
      ]
    },
    {
      "cell_type": "markdown",
      "metadata": {
        "id": "gLQPvNootVax"
      },
      "source": [
        "**Correlação de Incidentes Graves entre 2014 à 2016**"
      ]
    },
    {
      "cell_type": "code",
      "metadata": {
        "colab": {
          "base_uri": "https://localhost:8080/"
        },
        "id": "EEIDCW1Iu5Ol",
        "outputId": "2b081a82-ce3f-420d-d195-be545c49d822"
      },
      "source": [
        "incidenteGrave_2014_2016 = dadosCenipaSelecionadosAcidentes[(dadosCenipaSelecionadosAcidentes['ano'] >= 2014) &(dadosCenipaSelecionadosAcidentes['ano'] <=2016) &\n",
        "                                 (dadosCenipaSelecionadosAcidentes['tipo'] == 'INCIDENTE GRAVE')]\n",
        "incidenteGrave_2014_2016 = incidenteGrave_2014_2016['tipo']\n",
        "\n",
        "incidenteGrave_2014_2016 = len(incidenteGrave_2014_2016)\n",
        "\n",
        "incidenteGrave_2014_2016"
      ],
      "execution_count": null,
      "outputs": [
        {
          "output_type": "execute_result",
          "data": {
            "text/plain": [
              "175"
            ]
          },
          "metadata": {},
          "execution_count": 94
        }
      ]
    },
    {
      "cell_type": "markdown",
      "metadata": {
        "id": "EaX399dUtVgC"
      },
      "source": [
        "**Correlação de Acidentes entre 2017 à 2019**"
      ]
    },
    {
      "cell_type": "code",
      "metadata": {
        "colab": {
          "base_uri": "https://localhost:8080/"
        },
        "id": "2LYI7FTKvSh7",
        "outputId": "45af1d8b-98d0-404f-9ff7-d36f193d9160"
      },
      "source": [
        "acidente_2017_2019 = dadosCenipaSelecionadosAcidentes[(dadosCenipaSelecionadosAcidentes['ano'] >= 2017) &(dadosCenipaSelecionadosAcidentes['ano'] <=2019) &\n",
        "                                 (dadosCenipaSelecionadosAcidentes['tipo'] == 'ACIDENTE')]\n",
        "acidente_2017_2019 = acidente_2017_2019['tipo']\n",
        "\n",
        "acidente_2017_2019 = len(acidente_2017_2019)\n",
        "\n",
        "acidente_2017_2019"
      ],
      "execution_count": null,
      "outputs": [
        {
          "output_type": "execute_result",
          "data": {
            "text/plain": [
              "464"
            ]
          },
          "metadata": {},
          "execution_count": 95
        }
      ]
    },
    {
      "cell_type": "markdown",
      "metadata": {
        "id": "Wyuww_IatUq3"
      },
      "source": [
        "**Correlação de Incidentes entre 2017 à 2019**"
      ]
    },
    {
      "cell_type": "code",
      "metadata": {
        "colab": {
          "base_uri": "https://localhost:8080/"
        },
        "id": "w29kWqmRwjOM",
        "outputId": "07090558-e0bd-40a9-fadb-f47c5e59386e"
      },
      "source": [
        "incidente_2017_2019 = dadosCenipaSelecionadosAcidentes[(dadosCenipaSelecionadosAcidentes['ano'] >= 2017) &(dadosCenipaSelecionadosAcidentes['ano'] <=2019) &\n",
        "                                 (dadosCenipaSelecionadosAcidentes['tipo'] == 'INCIDENTE')]\n",
        "incidente_2017_2019 = incidente_2017_2019['tipo']\n",
        "\n",
        "incidente_2017_2019 = len(incidente_2017_2019)\n",
        "\n",
        "incidente_2017_2019"
      ],
      "execution_count": null,
      "outputs": [
        {
          "output_type": "execute_result",
          "data": {
            "text/plain": [
              "696"
            ]
          },
          "metadata": {},
          "execution_count": 96
        }
      ]
    },
    {
      "cell_type": "markdown",
      "metadata": {
        "id": "eMGfZn6jtVm3"
      },
      "source": [
        "**Correlação de Incidentes Graves entre 2017 à 2019**"
      ]
    },
    {
      "cell_type": "code",
      "metadata": {
        "colab": {
          "base_uri": "https://localhost:8080/"
        },
        "id": "A70nK4-ewqj0",
        "outputId": "d781bd37-7e55-436f-bc41-8057dfbe6672"
      },
      "source": [
        "incidenteGrave_2017_2019 = dadosCenipaSelecionadosAcidentes[(dadosCenipaSelecionadosAcidentes['ano'] >= 2017) &(dadosCenipaSelecionadosAcidentes['ano'] <=2019) &\n",
        "                                 (dadosCenipaSelecionadosAcidentes['tipo'] == 'INCIDENTE GRAVE')]\n",
        "incidenteGrave_2017_2019 = incidenteGrave_2017_2019['tipo']\n",
        "\n",
        "incidenteGrave_2017_2019 = len(incidenteGrave_2017_2019)\n",
        "\n",
        "incidenteGrave_2017_2019"
      ],
      "execution_count": null,
      "outputs": [
        {
          "output_type": "execute_result",
          "data": {
            "text/plain": [
              "213"
            ]
          },
          "metadata": {},
          "execution_count": 97
        }
      ]
    },
    {
      "cell_type": "markdown",
      "metadata": {
        "id": "1WBsVy25w8fZ"
      },
      "source": [
        "# Grafico de analise de acidentes, incidentes e incidentes graves por período\n",
        "\n",
        "O Grafico indica a quantidade de acidentes, incidentes e incidentes por um período de 3 anos"
      ]
    },
    {
      "cell_type": "code",
      "metadata": {
        "id": "AT3E2PGa1LVw",
        "colab": {
          "base_uri": "https://localhost:8080/",
          "height": 542
        },
        "outputId": "42a0cc00-40ba-4ecf-c431-6114c4d45a01"
      },
      "source": [
        "#acidente_2010_2013 = int(acidente_2010_2013) \n",
        "\n",
        "labels = ['2010 à 2013', '2014 à 2016', '2017 à 2019'] \n",
        "qtdAcidentes = [acidente_2010_2013, acidente_2014_2016, acidente_2017_2019]\n",
        "qtdIncidentes = [incidente_2010_2013, incidente_2014_2016, incidente_2017_2019]\n",
        "qtdIncidentesGrave = [incidenteGrave_2010_2013, incidenteGrave_2014_2016, incidenteGrave_2017_2019]\n",
        "\n",
        "# configurações\n",
        "\n",
        "acidente = go.Bar(x = labels,\n",
        "               y = qtdAcidentes,\n",
        "               name = 'Acidente')\n",
        "\n",
        "incidente = go.Bar(x = labels,\n",
        "                y = qtdIncidentes,\n",
        "                name = 'Incidente')\n",
        "\n",
        "incidenteGrave = go.Bar(x = labels,\n",
        "                y = qtaIncidentesGrave,\n",
        "                name = 'Incidente Grave')\n",
        "# plotando\n",
        "\n",
        "data = [acidente, incidente, incidenteGrave]\n",
        "py.iplot(data)\n",
        "\n",
        "\n",
        "\n"
      ],
      "execution_count": null,
      "outputs": [
        {
          "output_type": "display_data",
          "data": {
            "text/html": [
              "<html>\n",
              "<head><meta charset=\"utf-8\" /></head>\n",
              "<body>\n",
              "    <div>\n",
              "            <script src=\"https://cdnjs.cloudflare.com/ajax/libs/mathjax/2.7.5/MathJax.js?config=TeX-AMS-MML_SVG\"></script><script type=\"text/javascript\">if (window.MathJax) {MathJax.Hub.Config({SVG: {font: \"STIX-Web\"}});}</script>\n",
              "                <script type=\"text/javascript\">window.PlotlyConfig = {MathJaxConfig: 'local'};</script>\n",
              "        <script src=\"https://cdn.plot.ly/plotly-latest.min.js\"></script>    \n",
              "            <div id=\"a86d273b-1839-47b3-9a62-54f419231ee8\" class=\"plotly-graph-div\" style=\"height:525px; width:100%;\"></div>\n",
              "            <script type=\"text/javascript\">\n",
              "                \n",
              "                    window.PLOTLYENV=window.PLOTLYENV || {};\n",
              "                    \n",
              "                if (document.getElementById(\"a86d273b-1839-47b3-9a62-54f419231ee8\")) {\n",
              "                    Plotly.newPlot(\n",
              "                        'a86d273b-1839-47b3-9a62-54f419231ee8',\n",
              "                        [{\"name\": \"Acidente\", \"type\": \"bar\", \"x\": [\"2010 \\u00e0 2013\", \"2014 \\u00e0 2016\", \"2017 \\u00e0 2019\"], \"y\": [720, 510, 464]}, {\"name\": \"Incidente\", \"type\": \"bar\", \"x\": [\"2010 \\u00e0 2013\", \"2014 \\u00e0 2016\", \"2017 \\u00e0 2019\"], \"y\": [1435, 756, 696]}, {\"name\": \"Incidente Grave\", \"type\": \"bar\", \"x\": [\"2010 \\u00e0 2013\", \"2014 \\u00e0 2016\", \"2017 \\u00e0 2019\"], \"y\": [273, 175, 213]}],\n",
              "                        {\"template\": {\"data\": {\"bar\": [{\"error_x\": {\"color\": \"#2a3f5f\"}, \"error_y\": {\"color\": \"#2a3f5f\"}, \"marker\": {\"line\": {\"color\": \"#E5ECF6\", \"width\": 0.5}}, \"type\": \"bar\"}], \"barpolar\": [{\"marker\": {\"line\": {\"color\": \"#E5ECF6\", \"width\": 0.5}}, \"type\": \"barpolar\"}], \"carpet\": [{\"aaxis\": {\"endlinecolor\": \"#2a3f5f\", \"gridcolor\": \"white\", \"linecolor\": \"white\", \"minorgridcolor\": \"white\", \"startlinecolor\": \"#2a3f5f\"}, \"baxis\": {\"endlinecolor\": \"#2a3f5f\", \"gridcolor\": \"white\", \"linecolor\": \"white\", \"minorgridcolor\": \"white\", \"startlinecolor\": \"#2a3f5f\"}, \"type\": \"carpet\"}], \"choropleth\": [{\"colorbar\": {\"outlinewidth\": 0, \"ticks\": \"\"}, \"type\": \"choropleth\"}], \"contour\": [{\"colorbar\": {\"outlinewidth\": 0, \"ticks\": \"\"}, \"colorscale\": [[0.0, \"#0d0887\"], [0.1111111111111111, \"#46039f\"], [0.2222222222222222, \"#7201a8\"], [0.3333333333333333, \"#9c179e\"], [0.4444444444444444, \"#bd3786\"], [0.5555555555555556, \"#d8576b\"], [0.6666666666666666, \"#ed7953\"], [0.7777777777777778, \"#fb9f3a\"], [0.8888888888888888, \"#fdca26\"], [1.0, \"#f0f921\"]], \"type\": \"contour\"}], \"contourcarpet\": [{\"colorbar\": {\"outlinewidth\": 0, \"ticks\": \"\"}, \"type\": \"contourcarpet\"}], \"heatmap\": [{\"colorbar\": {\"outlinewidth\": 0, \"ticks\": \"\"}, \"colorscale\": [[0.0, \"#0d0887\"], [0.1111111111111111, \"#46039f\"], [0.2222222222222222, \"#7201a8\"], [0.3333333333333333, \"#9c179e\"], [0.4444444444444444, \"#bd3786\"], [0.5555555555555556, \"#d8576b\"], [0.6666666666666666, \"#ed7953\"], [0.7777777777777778, \"#fb9f3a\"], [0.8888888888888888, \"#fdca26\"], [1.0, \"#f0f921\"]], \"type\": \"heatmap\"}], \"heatmapgl\": [{\"colorbar\": {\"outlinewidth\": 0, \"ticks\": \"\"}, \"colorscale\": [[0.0, \"#0d0887\"], [0.1111111111111111, \"#46039f\"], [0.2222222222222222, \"#7201a8\"], [0.3333333333333333, \"#9c179e\"], [0.4444444444444444, \"#bd3786\"], [0.5555555555555556, \"#d8576b\"], [0.6666666666666666, \"#ed7953\"], [0.7777777777777778, \"#fb9f3a\"], [0.8888888888888888, \"#fdca26\"], [1.0, \"#f0f921\"]], \"type\": \"heatmapgl\"}], \"histogram\": [{\"marker\": {\"colorbar\": {\"outlinewidth\": 0, \"ticks\": \"\"}}, \"type\": \"histogram\"}], \"histogram2d\": [{\"colorbar\": {\"outlinewidth\": 0, \"ticks\": \"\"}, \"colorscale\": [[0.0, \"#0d0887\"], [0.1111111111111111, \"#46039f\"], [0.2222222222222222, \"#7201a8\"], [0.3333333333333333, \"#9c179e\"], [0.4444444444444444, \"#bd3786\"], [0.5555555555555556, \"#d8576b\"], [0.6666666666666666, \"#ed7953\"], [0.7777777777777778, \"#fb9f3a\"], [0.8888888888888888, \"#fdca26\"], [1.0, \"#f0f921\"]], \"type\": \"histogram2d\"}], \"histogram2dcontour\": [{\"colorbar\": {\"outlinewidth\": 0, \"ticks\": \"\"}, \"colorscale\": [[0.0, \"#0d0887\"], [0.1111111111111111, \"#46039f\"], [0.2222222222222222, \"#7201a8\"], [0.3333333333333333, \"#9c179e\"], [0.4444444444444444, \"#bd3786\"], [0.5555555555555556, \"#d8576b\"], [0.6666666666666666, \"#ed7953\"], [0.7777777777777778, \"#fb9f3a\"], [0.8888888888888888, \"#fdca26\"], [1.0, \"#f0f921\"]], \"type\": \"histogram2dcontour\"}], \"mesh3d\": [{\"colorbar\": {\"outlinewidth\": 0, \"ticks\": \"\"}, \"type\": \"mesh3d\"}], \"parcoords\": [{\"line\": {\"colorbar\": {\"outlinewidth\": 0, \"ticks\": \"\"}}, \"type\": \"parcoords\"}], \"pie\": [{\"automargin\": true, \"type\": \"pie\"}], \"scatter\": [{\"marker\": {\"colorbar\": {\"outlinewidth\": 0, \"ticks\": \"\"}}, \"type\": \"scatter\"}], \"scatter3d\": [{\"line\": {\"colorbar\": {\"outlinewidth\": 0, \"ticks\": \"\"}}, \"marker\": {\"colorbar\": {\"outlinewidth\": 0, \"ticks\": \"\"}}, \"type\": \"scatter3d\"}], \"scattercarpet\": [{\"marker\": {\"colorbar\": {\"outlinewidth\": 0, \"ticks\": \"\"}}, \"type\": \"scattercarpet\"}], \"scattergeo\": [{\"marker\": {\"colorbar\": {\"outlinewidth\": 0, \"ticks\": \"\"}}, \"type\": \"scattergeo\"}], \"scattergl\": [{\"marker\": {\"colorbar\": {\"outlinewidth\": 0, \"ticks\": \"\"}}, \"type\": \"scattergl\"}], \"scattermapbox\": [{\"marker\": {\"colorbar\": {\"outlinewidth\": 0, \"ticks\": \"\"}}, \"type\": \"scattermapbox\"}], \"scatterpolar\": [{\"marker\": {\"colorbar\": {\"outlinewidth\": 0, \"ticks\": \"\"}}, \"type\": \"scatterpolar\"}], \"scatterpolargl\": [{\"marker\": {\"colorbar\": {\"outlinewidth\": 0, \"ticks\": \"\"}}, \"type\": \"scatterpolargl\"}], \"scatterternary\": [{\"marker\": {\"colorbar\": {\"outlinewidth\": 0, \"ticks\": \"\"}}, \"type\": \"scatterternary\"}], \"surface\": [{\"colorbar\": {\"outlinewidth\": 0, \"ticks\": \"\"}, \"colorscale\": [[0.0, \"#0d0887\"], [0.1111111111111111, \"#46039f\"], [0.2222222222222222, \"#7201a8\"], [0.3333333333333333, \"#9c179e\"], [0.4444444444444444, \"#bd3786\"], [0.5555555555555556, \"#d8576b\"], [0.6666666666666666, \"#ed7953\"], [0.7777777777777778, \"#fb9f3a\"], [0.8888888888888888, \"#fdca26\"], [1.0, \"#f0f921\"]], \"type\": \"surface\"}], \"table\": [{\"cells\": {\"fill\": {\"color\": \"#EBF0F8\"}, \"line\": {\"color\": \"white\"}}, \"header\": {\"fill\": {\"color\": \"#C8D4E3\"}, \"line\": {\"color\": \"white\"}}, \"type\": \"table\"}]}, \"layout\": {\"annotationdefaults\": {\"arrowcolor\": \"#2a3f5f\", \"arrowhead\": 0, \"arrowwidth\": 1}, \"coloraxis\": {\"colorbar\": {\"outlinewidth\": 0, \"ticks\": \"\"}}, \"colorscale\": {\"diverging\": [[0, \"#8e0152\"], [0.1, \"#c51b7d\"], [0.2, \"#de77ae\"], [0.3, \"#f1b6da\"], [0.4, \"#fde0ef\"], [0.5, \"#f7f7f7\"], [0.6, \"#e6f5d0\"], [0.7, \"#b8e186\"], [0.8, \"#7fbc41\"], [0.9, \"#4d9221\"], [1, \"#276419\"]], \"sequential\": [[0.0, \"#0d0887\"], [0.1111111111111111, \"#46039f\"], [0.2222222222222222, \"#7201a8\"], [0.3333333333333333, \"#9c179e\"], [0.4444444444444444, \"#bd3786\"], [0.5555555555555556, \"#d8576b\"], [0.6666666666666666, \"#ed7953\"], [0.7777777777777778, \"#fb9f3a\"], [0.8888888888888888, \"#fdca26\"], [1.0, \"#f0f921\"]], \"sequentialminus\": [[0.0, \"#0d0887\"], [0.1111111111111111, \"#46039f\"], [0.2222222222222222, \"#7201a8\"], [0.3333333333333333, \"#9c179e\"], [0.4444444444444444, \"#bd3786\"], [0.5555555555555556, \"#d8576b\"], [0.6666666666666666, \"#ed7953\"], [0.7777777777777778, \"#fb9f3a\"], [0.8888888888888888, \"#fdca26\"], [1.0, \"#f0f921\"]]}, \"colorway\": [\"#636efa\", \"#EF553B\", \"#00cc96\", \"#ab63fa\", \"#FFA15A\", \"#19d3f3\", \"#FF6692\", \"#B6E880\", \"#FF97FF\", \"#FECB52\"], \"font\": {\"color\": \"#2a3f5f\"}, \"geo\": {\"bgcolor\": \"white\", \"lakecolor\": \"white\", \"landcolor\": \"#E5ECF6\", \"showlakes\": true, \"showland\": true, \"subunitcolor\": \"white\"}, \"hoverlabel\": {\"align\": \"left\"}, \"hovermode\": \"closest\", \"mapbox\": {\"style\": \"light\"}, \"paper_bgcolor\": \"white\", \"plot_bgcolor\": \"#E5ECF6\", \"polar\": {\"angularaxis\": {\"gridcolor\": \"white\", \"linecolor\": \"white\", \"ticks\": \"\"}, \"bgcolor\": \"#E5ECF6\", \"radialaxis\": {\"gridcolor\": \"white\", \"linecolor\": \"white\", \"ticks\": \"\"}}, \"scene\": {\"xaxis\": {\"backgroundcolor\": \"#E5ECF6\", \"gridcolor\": \"white\", \"gridwidth\": 2, \"linecolor\": \"white\", \"showbackground\": true, \"ticks\": \"\", \"zerolinecolor\": \"white\"}, \"yaxis\": {\"backgroundcolor\": \"#E5ECF6\", \"gridcolor\": \"white\", \"gridwidth\": 2, \"linecolor\": \"white\", \"showbackground\": true, \"ticks\": \"\", \"zerolinecolor\": \"white\"}, \"zaxis\": {\"backgroundcolor\": \"#E5ECF6\", \"gridcolor\": \"white\", \"gridwidth\": 2, \"linecolor\": \"white\", \"showbackground\": true, \"ticks\": \"\", \"zerolinecolor\": \"white\"}}, \"shapedefaults\": {\"line\": {\"color\": \"#2a3f5f\"}}, \"ternary\": {\"aaxis\": {\"gridcolor\": \"white\", \"linecolor\": \"white\", \"ticks\": \"\"}, \"baxis\": {\"gridcolor\": \"white\", \"linecolor\": \"white\", \"ticks\": \"\"}, \"bgcolor\": \"#E5ECF6\", \"caxis\": {\"gridcolor\": \"white\", \"linecolor\": \"white\", \"ticks\": \"\"}}, \"title\": {\"x\": 0.05}, \"xaxis\": {\"automargin\": true, \"gridcolor\": \"white\", \"linecolor\": \"white\", \"ticks\": \"\", \"title\": {\"standoff\": 15}, \"zerolinecolor\": \"white\", \"zerolinewidth\": 2}, \"yaxis\": {\"automargin\": true, \"gridcolor\": \"white\", \"linecolor\": \"white\", \"ticks\": \"\", \"title\": {\"standoff\": 15}, \"zerolinecolor\": \"white\", \"zerolinewidth\": 2}}}},\n",
              "                        {\"responsive\": true}\n",
              "                    ).then(function(){\n",
              "                            \n",
              "var gd = document.getElementById('a86d273b-1839-47b3-9a62-54f419231ee8');\n",
              "var x = new MutationObserver(function (mutations, observer) {{\n",
              "        var display = window.getComputedStyle(gd).display;\n",
              "        if (!display || display === 'none') {{\n",
              "            console.log([gd, 'removed!']);\n",
              "            Plotly.purge(gd);\n",
              "            observer.disconnect();\n",
              "        }}\n",
              "}});\n",
              "\n",
              "// Listen for the removal of the full notebook cells\n",
              "var notebookContainer = gd.closest('#notebook-container');\n",
              "if (notebookContainer) {{\n",
              "    x.observe(notebookContainer, {childList: true});\n",
              "}}\n",
              "\n",
              "// Listen for the clearing of the current output cell\n",
              "var outputEl = gd.closest('.output');\n",
              "if (outputEl) {{\n",
              "    x.observe(outputEl, {childList: true});\n",
              "}}\n",
              "\n",
              "                        })\n",
              "                };\n",
              "                \n",
              "            </script>\n",
              "        </div>\n",
              "</body>\n",
              "</html>"
            ]
          },
          "metadata": {}
        }
      ]
    },
    {
      "cell_type": "markdown",
      "metadata": {
        "id": "36g_8QZt9R9L"
      },
      "source": [
        "**• Grafico de queda na quantidade de acidentes**\n",
        "\n",
        "\n"
      ]
    },
    {
      "cell_type": "code",
      "metadata": {
        "colab": {
          "base_uri": "https://localhost:8080/",
          "height": 542
        },
        "id": "2CXJutw280on",
        "outputId": "a7d56fb5-1bdf-46bb-9534-e970e7e884ac"
      },
      "source": [
        "trace1 = go.Scatter(x = labels,\n",
        "                    y = qtdAcidentes,\n",
        "                    mode = 'lines',\n",
        "                    name = 'Acidentes',\n",
        "                    line = {'color': '#A52A2A',\n",
        "                            'dash': 'dot'})\n",
        "\n",
        "data = [trace1]\n",
        "\n",
        "py.iplot(data)"
      ],
      "execution_count": null,
      "outputs": [
        {
          "output_type": "display_data",
          "data": {
            "text/html": [
              "<html>\n",
              "<head><meta charset=\"utf-8\" /></head>\n",
              "<body>\n",
              "    <div>\n",
              "            <script src=\"https://cdnjs.cloudflare.com/ajax/libs/mathjax/2.7.5/MathJax.js?config=TeX-AMS-MML_SVG\"></script><script type=\"text/javascript\">if (window.MathJax) {MathJax.Hub.Config({SVG: {font: \"STIX-Web\"}});}</script>\n",
              "                <script type=\"text/javascript\">window.PlotlyConfig = {MathJaxConfig: 'local'};</script>\n",
              "        <script src=\"https://cdn.plot.ly/plotly-latest.min.js\"></script>    \n",
              "            <div id=\"d39c72eb-ecca-4ac3-acc0-1557e5b4eb98\" class=\"plotly-graph-div\" style=\"height:525px; width:100%;\"></div>\n",
              "            <script type=\"text/javascript\">\n",
              "                \n",
              "                    window.PLOTLYENV=window.PLOTLYENV || {};\n",
              "                    \n",
              "                if (document.getElementById(\"d39c72eb-ecca-4ac3-acc0-1557e5b4eb98\")) {\n",
              "                    Plotly.newPlot(\n",
              "                        'd39c72eb-ecca-4ac3-acc0-1557e5b4eb98',\n",
              "                        [{\"line\": {\"color\": \"#A52A2A\", \"dash\": \"dot\"}, \"mode\": \"lines\", \"name\": \"Acidentes\", \"type\": \"scatter\", \"x\": [\"2010 \\u00e0 2013\", \"2014 \\u00e0 2016\", \"2017 \\u00e0 2019\"], \"y\": [720, 510, 464]}],\n",
              "                        {\"template\": {\"data\": {\"bar\": [{\"error_x\": {\"color\": \"#2a3f5f\"}, \"error_y\": {\"color\": \"#2a3f5f\"}, \"marker\": {\"line\": {\"color\": \"#E5ECF6\", \"width\": 0.5}}, \"type\": \"bar\"}], \"barpolar\": [{\"marker\": {\"line\": {\"color\": \"#E5ECF6\", \"width\": 0.5}}, \"type\": \"barpolar\"}], \"carpet\": [{\"aaxis\": {\"endlinecolor\": \"#2a3f5f\", \"gridcolor\": \"white\", \"linecolor\": \"white\", \"minorgridcolor\": \"white\", \"startlinecolor\": \"#2a3f5f\"}, \"baxis\": {\"endlinecolor\": \"#2a3f5f\", \"gridcolor\": \"white\", \"linecolor\": \"white\", \"minorgridcolor\": \"white\", \"startlinecolor\": \"#2a3f5f\"}, \"type\": \"carpet\"}], \"choropleth\": [{\"colorbar\": {\"outlinewidth\": 0, \"ticks\": \"\"}, \"type\": \"choropleth\"}], \"contour\": [{\"colorbar\": {\"outlinewidth\": 0, \"ticks\": \"\"}, \"colorscale\": [[0.0, \"#0d0887\"], [0.1111111111111111, \"#46039f\"], [0.2222222222222222, \"#7201a8\"], [0.3333333333333333, \"#9c179e\"], [0.4444444444444444, \"#bd3786\"], [0.5555555555555556, \"#d8576b\"], [0.6666666666666666, \"#ed7953\"], [0.7777777777777778, \"#fb9f3a\"], [0.8888888888888888, \"#fdca26\"], [1.0, \"#f0f921\"]], \"type\": \"contour\"}], \"contourcarpet\": [{\"colorbar\": {\"outlinewidth\": 0, \"ticks\": \"\"}, \"type\": \"contourcarpet\"}], \"heatmap\": [{\"colorbar\": {\"outlinewidth\": 0, \"ticks\": \"\"}, \"colorscale\": [[0.0, \"#0d0887\"], [0.1111111111111111, \"#46039f\"], [0.2222222222222222, \"#7201a8\"], [0.3333333333333333, \"#9c179e\"], [0.4444444444444444, \"#bd3786\"], [0.5555555555555556, \"#d8576b\"], [0.6666666666666666, \"#ed7953\"], [0.7777777777777778, \"#fb9f3a\"], [0.8888888888888888, \"#fdca26\"], [1.0, \"#f0f921\"]], \"type\": \"heatmap\"}], \"heatmapgl\": [{\"colorbar\": {\"outlinewidth\": 0, \"ticks\": \"\"}, \"colorscale\": [[0.0, \"#0d0887\"], [0.1111111111111111, \"#46039f\"], [0.2222222222222222, \"#7201a8\"], [0.3333333333333333, \"#9c179e\"], [0.4444444444444444, \"#bd3786\"], [0.5555555555555556, \"#d8576b\"], [0.6666666666666666, \"#ed7953\"], [0.7777777777777778, \"#fb9f3a\"], [0.8888888888888888, \"#fdca26\"], [1.0, \"#f0f921\"]], \"type\": \"heatmapgl\"}], \"histogram\": [{\"marker\": {\"colorbar\": {\"outlinewidth\": 0, \"ticks\": \"\"}}, \"type\": \"histogram\"}], \"histogram2d\": [{\"colorbar\": {\"outlinewidth\": 0, \"ticks\": \"\"}, \"colorscale\": [[0.0, \"#0d0887\"], [0.1111111111111111, \"#46039f\"], [0.2222222222222222, \"#7201a8\"], [0.3333333333333333, \"#9c179e\"], [0.4444444444444444, \"#bd3786\"], [0.5555555555555556, \"#d8576b\"], [0.6666666666666666, \"#ed7953\"], [0.7777777777777778, \"#fb9f3a\"], [0.8888888888888888, \"#fdca26\"], [1.0, \"#f0f921\"]], \"type\": \"histogram2d\"}], \"histogram2dcontour\": [{\"colorbar\": {\"outlinewidth\": 0, \"ticks\": \"\"}, \"colorscale\": [[0.0, \"#0d0887\"], [0.1111111111111111, \"#46039f\"], [0.2222222222222222, \"#7201a8\"], [0.3333333333333333, \"#9c179e\"], [0.4444444444444444, \"#bd3786\"], [0.5555555555555556, \"#d8576b\"], [0.6666666666666666, \"#ed7953\"], [0.7777777777777778, \"#fb9f3a\"], [0.8888888888888888, \"#fdca26\"], [1.0, \"#f0f921\"]], \"type\": \"histogram2dcontour\"}], \"mesh3d\": [{\"colorbar\": {\"outlinewidth\": 0, \"ticks\": \"\"}, \"type\": \"mesh3d\"}], \"parcoords\": [{\"line\": {\"colorbar\": {\"outlinewidth\": 0, \"ticks\": \"\"}}, \"type\": \"parcoords\"}], \"pie\": [{\"automargin\": true, \"type\": \"pie\"}], \"scatter\": [{\"marker\": {\"colorbar\": {\"outlinewidth\": 0, \"ticks\": \"\"}}, \"type\": \"scatter\"}], \"scatter3d\": [{\"line\": {\"colorbar\": {\"outlinewidth\": 0, \"ticks\": \"\"}}, \"marker\": {\"colorbar\": {\"outlinewidth\": 0, \"ticks\": \"\"}}, \"type\": \"scatter3d\"}], \"scattercarpet\": [{\"marker\": {\"colorbar\": {\"outlinewidth\": 0, \"ticks\": \"\"}}, \"type\": \"scattercarpet\"}], \"scattergeo\": [{\"marker\": {\"colorbar\": {\"outlinewidth\": 0, \"ticks\": \"\"}}, \"type\": \"scattergeo\"}], \"scattergl\": [{\"marker\": {\"colorbar\": {\"outlinewidth\": 0, \"ticks\": \"\"}}, \"type\": \"scattergl\"}], \"scattermapbox\": [{\"marker\": {\"colorbar\": {\"outlinewidth\": 0, \"ticks\": \"\"}}, \"type\": \"scattermapbox\"}], \"scatterpolar\": [{\"marker\": {\"colorbar\": {\"outlinewidth\": 0, \"ticks\": \"\"}}, \"type\": \"scatterpolar\"}], \"scatterpolargl\": [{\"marker\": {\"colorbar\": {\"outlinewidth\": 0, \"ticks\": \"\"}}, \"type\": \"scatterpolargl\"}], \"scatterternary\": [{\"marker\": {\"colorbar\": {\"outlinewidth\": 0, \"ticks\": \"\"}}, \"type\": \"scatterternary\"}], \"surface\": [{\"colorbar\": {\"outlinewidth\": 0, \"ticks\": \"\"}, \"colorscale\": [[0.0, \"#0d0887\"], [0.1111111111111111, \"#46039f\"], [0.2222222222222222, \"#7201a8\"], [0.3333333333333333, \"#9c179e\"], [0.4444444444444444, \"#bd3786\"], [0.5555555555555556, \"#d8576b\"], [0.6666666666666666, \"#ed7953\"], [0.7777777777777778, \"#fb9f3a\"], [0.8888888888888888, \"#fdca26\"], [1.0, \"#f0f921\"]], \"type\": \"surface\"}], \"table\": [{\"cells\": {\"fill\": {\"color\": \"#EBF0F8\"}, \"line\": {\"color\": \"white\"}}, \"header\": {\"fill\": {\"color\": \"#C8D4E3\"}, \"line\": {\"color\": \"white\"}}, \"type\": \"table\"}]}, \"layout\": {\"annotationdefaults\": {\"arrowcolor\": \"#2a3f5f\", \"arrowhead\": 0, \"arrowwidth\": 1}, \"coloraxis\": {\"colorbar\": {\"outlinewidth\": 0, \"ticks\": \"\"}}, \"colorscale\": {\"diverging\": [[0, \"#8e0152\"], [0.1, \"#c51b7d\"], [0.2, \"#de77ae\"], [0.3, \"#f1b6da\"], [0.4, \"#fde0ef\"], [0.5, \"#f7f7f7\"], [0.6, \"#e6f5d0\"], [0.7, \"#b8e186\"], [0.8, \"#7fbc41\"], [0.9, \"#4d9221\"], [1, \"#276419\"]], \"sequential\": [[0.0, \"#0d0887\"], [0.1111111111111111, \"#46039f\"], [0.2222222222222222, \"#7201a8\"], [0.3333333333333333, \"#9c179e\"], [0.4444444444444444, \"#bd3786\"], [0.5555555555555556, \"#d8576b\"], [0.6666666666666666, \"#ed7953\"], [0.7777777777777778, \"#fb9f3a\"], [0.8888888888888888, \"#fdca26\"], [1.0, \"#f0f921\"]], \"sequentialminus\": [[0.0, \"#0d0887\"], [0.1111111111111111, \"#46039f\"], [0.2222222222222222, \"#7201a8\"], [0.3333333333333333, \"#9c179e\"], [0.4444444444444444, \"#bd3786\"], [0.5555555555555556, \"#d8576b\"], [0.6666666666666666, \"#ed7953\"], [0.7777777777777778, \"#fb9f3a\"], [0.8888888888888888, \"#fdca26\"], [1.0, \"#f0f921\"]]}, \"colorway\": [\"#636efa\", \"#EF553B\", \"#00cc96\", \"#ab63fa\", \"#FFA15A\", \"#19d3f3\", \"#FF6692\", \"#B6E880\", \"#FF97FF\", \"#FECB52\"], \"font\": {\"color\": \"#2a3f5f\"}, \"geo\": {\"bgcolor\": \"white\", \"lakecolor\": \"white\", \"landcolor\": \"#E5ECF6\", \"showlakes\": true, \"showland\": true, \"subunitcolor\": \"white\"}, \"hoverlabel\": {\"align\": \"left\"}, \"hovermode\": \"closest\", \"mapbox\": {\"style\": \"light\"}, \"paper_bgcolor\": \"white\", \"plot_bgcolor\": \"#E5ECF6\", \"polar\": {\"angularaxis\": {\"gridcolor\": \"white\", \"linecolor\": \"white\", \"ticks\": \"\"}, \"bgcolor\": \"#E5ECF6\", \"radialaxis\": {\"gridcolor\": \"white\", \"linecolor\": \"white\", \"ticks\": \"\"}}, \"scene\": {\"xaxis\": {\"backgroundcolor\": \"#E5ECF6\", \"gridcolor\": \"white\", \"gridwidth\": 2, \"linecolor\": \"white\", \"showbackground\": true, \"ticks\": \"\", \"zerolinecolor\": \"white\"}, \"yaxis\": {\"backgroundcolor\": \"#E5ECF6\", \"gridcolor\": \"white\", \"gridwidth\": 2, \"linecolor\": \"white\", \"showbackground\": true, \"ticks\": \"\", \"zerolinecolor\": \"white\"}, \"zaxis\": {\"backgroundcolor\": \"#E5ECF6\", \"gridcolor\": \"white\", \"gridwidth\": 2, \"linecolor\": \"white\", \"showbackground\": true, \"ticks\": \"\", \"zerolinecolor\": \"white\"}}, \"shapedefaults\": {\"line\": {\"color\": \"#2a3f5f\"}}, \"ternary\": {\"aaxis\": {\"gridcolor\": \"white\", \"linecolor\": \"white\", \"ticks\": \"\"}, \"baxis\": {\"gridcolor\": \"white\", \"linecolor\": \"white\", \"ticks\": \"\"}, \"bgcolor\": \"#E5ECF6\", \"caxis\": {\"gridcolor\": \"white\", \"linecolor\": \"white\", \"ticks\": \"\"}}, \"title\": {\"x\": 0.05}, \"xaxis\": {\"automargin\": true, \"gridcolor\": \"white\", \"linecolor\": \"white\", \"ticks\": \"\", \"title\": {\"standoff\": 15}, \"zerolinecolor\": \"white\", \"zerolinewidth\": 2}, \"yaxis\": {\"automargin\": true, \"gridcolor\": \"white\", \"linecolor\": \"white\", \"ticks\": \"\", \"title\": {\"standoff\": 15}, \"zerolinecolor\": \"white\", \"zerolinewidth\": 2}}}},\n",
              "                        {\"responsive\": true}\n",
              "                    ).then(function(){\n",
              "                            \n",
              "var gd = document.getElementById('d39c72eb-ecca-4ac3-acc0-1557e5b4eb98');\n",
              "var x = new MutationObserver(function (mutations, observer) {{\n",
              "        var display = window.getComputedStyle(gd).display;\n",
              "        if (!display || display === 'none') {{\n",
              "            console.log([gd, 'removed!']);\n",
              "            Plotly.purge(gd);\n",
              "            observer.disconnect();\n",
              "        }}\n",
              "}});\n",
              "\n",
              "// Listen for the removal of the full notebook cells\n",
              "var notebookContainer = gd.closest('#notebook-container');\n",
              "if (notebookContainer) {{\n",
              "    x.observe(notebookContainer, {childList: true});\n",
              "}}\n",
              "\n",
              "// Listen for the clearing of the current output cell\n",
              "var outputEl = gd.closest('.output');\n",
              "if (outputEl) {{\n",
              "    x.observe(outputEl, {childList: true});\n",
              "}}\n",
              "\n",
              "                        })\n",
              "                };\n",
              "                \n",
              "            </script>\n",
              "        </div>\n",
              "</body>\n",
              "</html>"
            ]
          },
          "metadata": {}
        }
      ]
    },
    {
      "cell_type": "markdown",
      "metadata": {
        "id": "pW4g_NcMbk-r"
      },
      "source": [
        "**• Grafico de queda na quantidade de incidentes e incidentes graves**\n",
        "\n",
        "\n"
      ]
    },
    {
      "cell_type": "code",
      "metadata": {
        "colab": {
          "base_uri": "https://localhost:8080/",
          "height": 542
        },
        "id": "_o_Ay72V901T",
        "outputId": "58637634-3094-4c42-9c62-44731d249b12"
      },
      "source": [
        "# Gráfico usando apenas marcadores\n",
        "trace2 = go.Scatter(x = labels,\n",
        "                    y = qtdIncidentes,\n",
        "                    mode = 'lines',\n",
        "                    name = 'Incidentes',\n",
        "                    line = {'color': '#FF4500',\n",
        "                            'dash': 'dash'})\n",
        "\n",
        "# Gráfico de apenas linhas\n",
        "trace3 = go.Scatter(x = labels,\n",
        "                    y = qtdIncidentesGrave,\n",
        "                    mode = 'lines',\n",
        "                    name = 'Incidentes Graves',\n",
        "                    line = {'color': '#FF0000',\n",
        "                            'dash': 'dash'})\n",
        "\n",
        "data = [trace1, trace2]\n",
        "\n",
        "py.iplot(data)"
      ],
      "execution_count": null,
      "outputs": [
        {
          "output_type": "display_data",
          "data": {
            "text/html": [
              "<html>\n",
              "<head><meta charset=\"utf-8\" /></head>\n",
              "<body>\n",
              "    <div>\n",
              "            <script src=\"https://cdnjs.cloudflare.com/ajax/libs/mathjax/2.7.5/MathJax.js?config=TeX-AMS-MML_SVG\"></script><script type=\"text/javascript\">if (window.MathJax) {MathJax.Hub.Config({SVG: {font: \"STIX-Web\"}});}</script>\n",
              "                <script type=\"text/javascript\">window.PlotlyConfig = {MathJaxConfig: 'local'};</script>\n",
              "        <script src=\"https://cdn.plot.ly/plotly-latest.min.js\"></script>    \n",
              "            <div id=\"173a69b1-85e1-49a1-b53b-d121abc06b40\" class=\"plotly-graph-div\" style=\"height:525px; width:100%;\"></div>\n",
              "            <script type=\"text/javascript\">\n",
              "                \n",
              "                    window.PLOTLYENV=window.PLOTLYENV || {};\n",
              "                    \n",
              "                if (document.getElementById(\"173a69b1-85e1-49a1-b53b-d121abc06b40\")) {\n",
              "                    Plotly.newPlot(\n",
              "                        '173a69b1-85e1-49a1-b53b-d121abc06b40',\n",
              "                        [{\"line\": {\"color\": \"#A52A2A\", \"dash\": \"dot\"}, \"mode\": \"lines\", \"name\": \"Acidentes\", \"type\": \"scatter\", \"x\": [\"2010 \\u00e0 2013\", \"2014 \\u00e0 2016\", \"2017 \\u00e0 2019\"], \"y\": [720, 510, 464]}, {\"line\": {\"color\": \"#FF4500\", \"dash\": \"dash\"}, \"mode\": \"lines\", \"name\": \"Incidentes\", \"type\": \"scatter\", \"x\": [\"2010 \\u00e0 2013\", \"2014 \\u00e0 2016\", \"2017 \\u00e0 2019\"], \"y\": [1435, 756, 696]}],\n",
              "                        {\"template\": {\"data\": {\"bar\": [{\"error_x\": {\"color\": \"#2a3f5f\"}, \"error_y\": {\"color\": \"#2a3f5f\"}, \"marker\": {\"line\": {\"color\": \"#E5ECF6\", \"width\": 0.5}}, \"type\": \"bar\"}], \"barpolar\": [{\"marker\": {\"line\": {\"color\": \"#E5ECF6\", \"width\": 0.5}}, \"type\": \"barpolar\"}], \"carpet\": [{\"aaxis\": {\"endlinecolor\": \"#2a3f5f\", \"gridcolor\": \"white\", \"linecolor\": \"white\", \"minorgridcolor\": \"white\", \"startlinecolor\": \"#2a3f5f\"}, \"baxis\": {\"endlinecolor\": \"#2a3f5f\", \"gridcolor\": \"white\", \"linecolor\": \"white\", \"minorgridcolor\": \"white\", \"startlinecolor\": \"#2a3f5f\"}, \"type\": \"carpet\"}], \"choropleth\": [{\"colorbar\": {\"outlinewidth\": 0, \"ticks\": \"\"}, \"type\": \"choropleth\"}], \"contour\": [{\"colorbar\": {\"outlinewidth\": 0, \"ticks\": \"\"}, \"colorscale\": [[0.0, \"#0d0887\"], [0.1111111111111111, \"#46039f\"], [0.2222222222222222, \"#7201a8\"], [0.3333333333333333, \"#9c179e\"], [0.4444444444444444, \"#bd3786\"], [0.5555555555555556, \"#d8576b\"], [0.6666666666666666, \"#ed7953\"], [0.7777777777777778, \"#fb9f3a\"], [0.8888888888888888, \"#fdca26\"], [1.0, \"#f0f921\"]], \"type\": \"contour\"}], \"contourcarpet\": [{\"colorbar\": {\"outlinewidth\": 0, \"ticks\": \"\"}, \"type\": \"contourcarpet\"}], \"heatmap\": [{\"colorbar\": {\"outlinewidth\": 0, \"ticks\": \"\"}, \"colorscale\": [[0.0, \"#0d0887\"], [0.1111111111111111, \"#46039f\"], [0.2222222222222222, \"#7201a8\"], [0.3333333333333333, \"#9c179e\"], [0.4444444444444444, \"#bd3786\"], [0.5555555555555556, \"#d8576b\"], [0.6666666666666666, \"#ed7953\"], [0.7777777777777778, \"#fb9f3a\"], [0.8888888888888888, \"#fdca26\"], [1.0, \"#f0f921\"]], \"type\": \"heatmap\"}], \"heatmapgl\": [{\"colorbar\": {\"outlinewidth\": 0, \"ticks\": \"\"}, \"colorscale\": [[0.0, \"#0d0887\"], [0.1111111111111111, \"#46039f\"], [0.2222222222222222, \"#7201a8\"], [0.3333333333333333, \"#9c179e\"], [0.4444444444444444, \"#bd3786\"], [0.5555555555555556, \"#d8576b\"], [0.6666666666666666, \"#ed7953\"], [0.7777777777777778, \"#fb9f3a\"], [0.8888888888888888, \"#fdca26\"], [1.0, \"#f0f921\"]], \"type\": \"heatmapgl\"}], \"histogram\": [{\"marker\": {\"colorbar\": {\"outlinewidth\": 0, \"ticks\": \"\"}}, \"type\": \"histogram\"}], \"histogram2d\": [{\"colorbar\": {\"outlinewidth\": 0, \"ticks\": \"\"}, \"colorscale\": [[0.0, \"#0d0887\"], [0.1111111111111111, \"#46039f\"], [0.2222222222222222, \"#7201a8\"], [0.3333333333333333, \"#9c179e\"], [0.4444444444444444, \"#bd3786\"], [0.5555555555555556, \"#d8576b\"], [0.6666666666666666, \"#ed7953\"], [0.7777777777777778, \"#fb9f3a\"], [0.8888888888888888, \"#fdca26\"], [1.0, \"#f0f921\"]], \"type\": \"histogram2d\"}], \"histogram2dcontour\": [{\"colorbar\": {\"outlinewidth\": 0, \"ticks\": \"\"}, \"colorscale\": [[0.0, \"#0d0887\"], [0.1111111111111111, \"#46039f\"], [0.2222222222222222, \"#7201a8\"], [0.3333333333333333, \"#9c179e\"], [0.4444444444444444, \"#bd3786\"], [0.5555555555555556, \"#d8576b\"], [0.6666666666666666, \"#ed7953\"], [0.7777777777777778, \"#fb9f3a\"], [0.8888888888888888, \"#fdca26\"], [1.0, \"#f0f921\"]], \"type\": \"histogram2dcontour\"}], \"mesh3d\": [{\"colorbar\": {\"outlinewidth\": 0, \"ticks\": \"\"}, \"type\": \"mesh3d\"}], \"parcoords\": [{\"line\": {\"colorbar\": {\"outlinewidth\": 0, \"ticks\": \"\"}}, \"type\": \"parcoords\"}], \"pie\": [{\"automargin\": true, \"type\": \"pie\"}], \"scatter\": [{\"marker\": {\"colorbar\": {\"outlinewidth\": 0, \"ticks\": \"\"}}, \"type\": \"scatter\"}], \"scatter3d\": [{\"line\": {\"colorbar\": {\"outlinewidth\": 0, \"ticks\": \"\"}}, \"marker\": {\"colorbar\": {\"outlinewidth\": 0, \"ticks\": \"\"}}, \"type\": \"scatter3d\"}], \"scattercarpet\": [{\"marker\": {\"colorbar\": {\"outlinewidth\": 0, \"ticks\": \"\"}}, \"type\": \"scattercarpet\"}], \"scattergeo\": [{\"marker\": {\"colorbar\": {\"outlinewidth\": 0, \"ticks\": \"\"}}, \"type\": \"scattergeo\"}], \"scattergl\": [{\"marker\": {\"colorbar\": {\"outlinewidth\": 0, \"ticks\": \"\"}}, \"type\": \"scattergl\"}], \"scattermapbox\": [{\"marker\": {\"colorbar\": {\"outlinewidth\": 0, \"ticks\": \"\"}}, \"type\": \"scattermapbox\"}], \"scatterpolar\": [{\"marker\": {\"colorbar\": {\"outlinewidth\": 0, \"ticks\": \"\"}}, \"type\": \"scatterpolar\"}], \"scatterpolargl\": [{\"marker\": {\"colorbar\": {\"outlinewidth\": 0, \"ticks\": \"\"}}, \"type\": \"scatterpolargl\"}], \"scatterternary\": [{\"marker\": {\"colorbar\": {\"outlinewidth\": 0, \"ticks\": \"\"}}, \"type\": \"scatterternary\"}], \"surface\": [{\"colorbar\": {\"outlinewidth\": 0, \"ticks\": \"\"}, \"colorscale\": [[0.0, \"#0d0887\"], [0.1111111111111111, \"#46039f\"], [0.2222222222222222, \"#7201a8\"], [0.3333333333333333, \"#9c179e\"], [0.4444444444444444, \"#bd3786\"], [0.5555555555555556, \"#d8576b\"], [0.6666666666666666, \"#ed7953\"], [0.7777777777777778, \"#fb9f3a\"], [0.8888888888888888, \"#fdca26\"], [1.0, \"#f0f921\"]], \"type\": \"surface\"}], \"table\": [{\"cells\": {\"fill\": {\"color\": \"#EBF0F8\"}, \"line\": {\"color\": \"white\"}}, \"header\": {\"fill\": {\"color\": \"#C8D4E3\"}, \"line\": {\"color\": \"white\"}}, \"type\": \"table\"}]}, \"layout\": {\"annotationdefaults\": {\"arrowcolor\": \"#2a3f5f\", \"arrowhead\": 0, \"arrowwidth\": 1}, \"coloraxis\": {\"colorbar\": {\"outlinewidth\": 0, \"ticks\": \"\"}}, \"colorscale\": {\"diverging\": [[0, \"#8e0152\"], [0.1, \"#c51b7d\"], [0.2, \"#de77ae\"], [0.3, \"#f1b6da\"], [0.4, \"#fde0ef\"], [0.5, \"#f7f7f7\"], [0.6, \"#e6f5d0\"], [0.7, \"#b8e186\"], [0.8, \"#7fbc41\"], [0.9, \"#4d9221\"], [1, \"#276419\"]], \"sequential\": [[0.0, \"#0d0887\"], [0.1111111111111111, \"#46039f\"], [0.2222222222222222, \"#7201a8\"], [0.3333333333333333, \"#9c179e\"], [0.4444444444444444, \"#bd3786\"], [0.5555555555555556, \"#d8576b\"], [0.6666666666666666, \"#ed7953\"], [0.7777777777777778, \"#fb9f3a\"], [0.8888888888888888, \"#fdca26\"], [1.0, \"#f0f921\"]], \"sequentialminus\": [[0.0, \"#0d0887\"], [0.1111111111111111, \"#46039f\"], [0.2222222222222222, \"#7201a8\"], [0.3333333333333333, \"#9c179e\"], [0.4444444444444444, \"#bd3786\"], [0.5555555555555556, \"#d8576b\"], [0.6666666666666666, \"#ed7953\"], [0.7777777777777778, \"#fb9f3a\"], [0.8888888888888888, \"#fdca26\"], [1.0, \"#f0f921\"]]}, \"colorway\": [\"#636efa\", \"#EF553B\", \"#00cc96\", \"#ab63fa\", \"#FFA15A\", \"#19d3f3\", \"#FF6692\", \"#B6E880\", \"#FF97FF\", \"#FECB52\"], \"font\": {\"color\": \"#2a3f5f\"}, \"geo\": {\"bgcolor\": \"white\", \"lakecolor\": \"white\", \"landcolor\": \"#E5ECF6\", \"showlakes\": true, \"showland\": true, \"subunitcolor\": \"white\"}, \"hoverlabel\": {\"align\": \"left\"}, \"hovermode\": \"closest\", \"mapbox\": {\"style\": \"light\"}, \"paper_bgcolor\": \"white\", \"plot_bgcolor\": \"#E5ECF6\", \"polar\": {\"angularaxis\": {\"gridcolor\": \"white\", \"linecolor\": \"white\", \"ticks\": \"\"}, \"bgcolor\": \"#E5ECF6\", \"radialaxis\": {\"gridcolor\": \"white\", \"linecolor\": \"white\", \"ticks\": \"\"}}, \"scene\": {\"xaxis\": {\"backgroundcolor\": \"#E5ECF6\", \"gridcolor\": \"white\", \"gridwidth\": 2, \"linecolor\": \"white\", \"showbackground\": true, \"ticks\": \"\", \"zerolinecolor\": \"white\"}, \"yaxis\": {\"backgroundcolor\": \"#E5ECF6\", \"gridcolor\": \"white\", \"gridwidth\": 2, \"linecolor\": \"white\", \"showbackground\": true, \"ticks\": \"\", \"zerolinecolor\": \"white\"}, \"zaxis\": {\"backgroundcolor\": \"#E5ECF6\", \"gridcolor\": \"white\", \"gridwidth\": 2, \"linecolor\": \"white\", \"showbackground\": true, \"ticks\": \"\", \"zerolinecolor\": \"white\"}}, \"shapedefaults\": {\"line\": {\"color\": \"#2a3f5f\"}}, \"ternary\": {\"aaxis\": {\"gridcolor\": \"white\", \"linecolor\": \"white\", \"ticks\": \"\"}, \"baxis\": {\"gridcolor\": \"white\", \"linecolor\": \"white\", \"ticks\": \"\"}, \"bgcolor\": \"#E5ECF6\", \"caxis\": {\"gridcolor\": \"white\", \"linecolor\": \"white\", \"ticks\": \"\"}}, \"title\": {\"x\": 0.05}, \"xaxis\": {\"automargin\": true, \"gridcolor\": \"white\", \"linecolor\": \"white\", \"ticks\": \"\", \"title\": {\"standoff\": 15}, \"zerolinecolor\": \"white\", \"zerolinewidth\": 2}, \"yaxis\": {\"automargin\": true, \"gridcolor\": \"white\", \"linecolor\": \"white\", \"ticks\": \"\", \"title\": {\"standoff\": 15}, \"zerolinecolor\": \"white\", \"zerolinewidth\": 2}}}},\n",
              "                        {\"responsive\": true}\n",
              "                    ).then(function(){\n",
              "                            \n",
              "var gd = document.getElementById('173a69b1-85e1-49a1-b53b-d121abc06b40');\n",
              "var x = new MutationObserver(function (mutations, observer) {{\n",
              "        var display = window.getComputedStyle(gd).display;\n",
              "        if (!display || display === 'none') {{\n",
              "            console.log([gd, 'removed!']);\n",
              "            Plotly.purge(gd);\n",
              "            observer.disconnect();\n",
              "        }}\n",
              "}});\n",
              "\n",
              "// Listen for the removal of the full notebook cells\n",
              "var notebookContainer = gd.closest('#notebook-container');\n",
              "if (notebookContainer) {{\n",
              "    x.observe(notebookContainer, {childList: true});\n",
              "}}\n",
              "\n",
              "// Listen for the clearing of the current output cell\n",
              "var outputEl = gd.closest('.output');\n",
              "if (outputEl) {{\n",
              "    x.observe(outputEl, {childList: true});\n",
              "}}\n",
              "\n",
              "                        })\n",
              "                };\n",
              "                \n",
              "            </script>\n",
              "        </div>\n",
              "</body>\n",
              "</html>"
            ]
          },
          "metadata": {}
        }
      ]
    },
    {
      "cell_type": "code",
      "metadata": {
        "colab": {
          "base_uri": "https://localhost:8080/"
        },
        "id": "T9_HXt8Xxe6g",
        "outputId": "dba439ff-5042-4cfd-c429-8aa89b78bb73"
      },
      "source": [
        "mediaAcidente = sum(qtdAcidentes)\n",
        "mediaAcidente = mediaAcidente / len(qtdAcidentes)\n",
        "\n",
        "mediaIncidente = sum(qtdIncidentes)\n",
        "mediaIncidente = mediaIncidente / len(qtdIncidentes)\n",
        "\n",
        "mediaIncidenteGrave = sum(qtdIncidentesGrave)\n",
        "mediaIncidenteGrave = mediaIncidenteGrave / len(qtdIncidentesGrave)\n",
        "\n",
        "\n",
        "print('Média de acidentes entre os anos de 2010 à 2019: {0:.2f}'.format(round(mediaAcidente,2)))\n",
        "print('Média de Incidentes entre os anos de 2010 à 2019: {0:.2f}'.format(round(mediaIncidente,2)))\n",
        "print('Média de Incidentes Graves entre os anos de 2010 à 2019: {0:.2f}'.format(round(mediaIncidenteGrave,2)))\n",
        "\n"
      ],
      "execution_count": null,
      "outputs": [
        {
          "output_type": "stream",
          "name": "stdout",
          "text": [
            "Média de acidentes entre os anos de 2010 à 2019: 564.67\n",
            "Média de Incidentes entre os anos de 2010 à 2019: 962.33\n",
            "Média de Incidentes Graves entre os anos de 2010 à 2019: 220.33\n"
          ]
        }
      ]
    },
    {
      "cell_type": "markdown",
      "metadata": {
        "id": "FC6aeoVC6clh"
      },
      "source": [
        "#**Conclusão**"
      ]
    },
    {
      "cell_type": "markdown",
      "metadata": {
        "id": "Ea1l19SZ6MIx"
      },
      "source": [
        "Relatório final sobre  estudo , indicando os principais pontos estudados, assim como suas conclusões.\n",
        "\n",
        "Nesse estudo , realizamos a comparação, regressão gráfica e análise das ocorrências aeronáuticas notificadas ao CENIPA nos últimos 10 anos em solo brasileiro.\n",
        "\n",
        "Realizamos a análise de diferentes tipos de acidentes , como, colisão com obstáculo durante e decolagem e pouso, falha ou mau funcionamento de sistema ou comunicação , pane seca, falha do motor em voo e com trem de pouso e pudemos concluir que , entre esses , tivemos três tipos de danos ocasionados:\n",
        "\n",
        "\n",
        "\n",
        "*   Acidente\n",
        "*   Incidente\n",
        "*   Incidente Grave\n",
        "\n",
        "Podemos concluir que entre o ano de **2010 à 2013** , o número de incidente médio, está no topo superando 1400, seguido de acidente leve entre 600 e 800 casos e incidente grave com o número menor de ocorrências, entre 200 e 400.\n",
        "\n",
        "Entre o ano de **2014 à 2016** , podemos concluir que o número de incidentes médio também está no topo com um maior número de ocorrências , entre 800 e 600, seguido de acidente leve entre 400 e 600 e incidentes graves entre 0 e 200.\n",
        "\n",
        "Entre o ano de **2017 à 2019**, incidentes médios também tiveram o maior número de ocorrências , entre 600 e 800 , seguido com acidente leve entre 400 e 600 e incidentes graves com o número de 200 ocorrências.\n",
        "\n",
        "Com isso , o número de acidentes, no total , entre o ano de 2010 à 2019 foi de **564,67**, o número de incidentes no total entre o ano de 2010 à 2019 foi de **962,33** e o número total de incidentes graves entre o ano de 2010 à 2019 foi de **220,33**.\n",
        "\n",
        "Com base nos gráficos, podemos observar que entre o an de **2010 à 2013**, foram os anos que tiveram o maior número de acidentes , porém com uma tendência de queda considerável entre os anos de **2014 à 2016**, entre os anos de **2017 à 2019** ocorreram quedas no número de acidentes , porém manteve uma linha constante.\n"
      ]
    },
    {
      "cell_type": "markdown",
      "metadata": {
        "id": "9-KxcE92lVLW"
      },
      "source": [
        "# BIBLIOGRÁFIA\n"
      ]
    },
    {
      "cell_type": "markdown",
      "metadata": {
        "id": "9CpRUhPImnvG"
      },
      "source": [
        "REFERENCIAS \n",
        "\n",
        "AAPA(Ambiente de Apoio Presencial de Aprendizagem)\n",
        "\n",
        "Python\n",
        "Análise de Dados\n",
        "\n",
        "Data Science Para Negócios\n",
        "\n",
        "Data Science do Zero\n",
        "\n",
        "Learn Data Analysis with Python: Lessons in Coding\n",
        "\n",
        "Python for Data Analysis\n",
        "\n",
        "Meterial passado nas aulas do Professor Edson\n",
        "https://github.com/EdsonMSouza/08_T22_QUI_N\n",
        "\n",
        "Conteúdo estudados nas aulas de PROJETO EM GOVERNANÇA DE TI "
      ]
    }
  ]
}